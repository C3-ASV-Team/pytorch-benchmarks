{
 "cells": [
  {
   "cell_type": "markdown",
   "metadata": {},
   "source": [
    "# PyTorch software benchmark analysis\n",
    "\n",
    "Single node throughput comparisons between installation versions"
   ]
  },
  {
   "cell_type": "code",
   "execution_count": 1,
   "metadata": {},
   "outputs": [],
   "source": [
    "import os\n",
    "import re\n",
    "import glob\n",
    "\n",
    "import pandas as pd\n",
    "import matplotlib.pyplot as plt"
   ]
  },
  {
   "cell_type": "code",
   "execution_count": 2,
   "metadata": {},
   "outputs": [],
   "source": [
    "%matplotlib inline"
   ]
  },
  {
   "cell_type": "code",
   "execution_count": 3,
   "metadata": {},
   "outputs": [],
   "source": [
    "plt.rcParams.update({'font.size': 14})"
   ]
  },
  {
   "cell_type": "markdown",
   "metadata": {},
   "source": [
    "## Load the results"
   ]
  },
  {
   "cell_type": "code",
   "execution_count": 4,
   "metadata": {},
   "outputs": [
    {
     "name": "stdout",
     "output_type": "stream",
     "text": [
      "\u001b[0m\u001b[01;34mgpu-ngc_20.03_v0-nccl-n1\u001b[0m/  \u001b[01;34mgpu-v1.5.0-gloo-n2\u001b[0m/   \u001b[01;34mgpu-v1.5.0-nccl-n2\u001b[0m/\n",
      "\u001b[01;34mgpu-v1.1.0-nccl-n1\u001b[0m/        \u001b[01;34mgpu-v1.5.0-gloo-n32\u001b[0m/  \u001b[01;34mgpu-v1.5.0-nccl-n32\u001b[0m/\n",
      "\u001b[01;34mgpu-v1.2.0-nccl-n1\u001b[0m/        \u001b[01;34mgpu-v1.5.0-gloo-n4\u001b[0m/   \u001b[01;34mgpu-v1.5.0-nccl-n4\u001b[0m/\n",
      "\u001b[01;34mgpu-v1.3.1-nccl-n1\u001b[0m/        \u001b[01;34mgpu-v1.5.0-gloo-n64\u001b[0m/  \u001b[01;34mgpu-v1.5.0-nccl-n64\u001b[0m/\n",
      "\u001b[01;34mgpu-v1.4.0-nccl-n1\u001b[0m/        \u001b[01;34mgpu-v1.5.0-gloo-n8\u001b[0m/   \u001b[01;34mgpu-v1.5.0-nccl-n8\u001b[0m/\n",
      "\u001b[01;34mgpu-v1.5.0-gloo-n1\u001b[0m/        \u001b[01;34mgpu-v1.5.0-nccl-n1\u001b[0m/   \u001b[01;34mhsw-v1.5.0-mpi-n1\u001b[0m/\n",
      "\u001b[01;34mgpu-v1.5.0-gloo-n16\u001b[0m/       \u001b[01;34mgpu-v1.5.0-nccl-n16\u001b[0m/  \u001b[01;34mknl-v1.5.0-mpi-n1\u001b[0m/\n"
     ]
    }
   ],
   "source": [
    "ls /global/cscratch1/sd/sfarrell/pytorch-benchmarks/results"
   ]
  },
  {
   "cell_type": "code",
   "execution_count": 6,
   "metadata": {},
   "outputs": [
    {
     "data": {
      "text/plain": [
       "['/global/cscratch1/sd/sfarrell/pytorch-benchmarks/results/hsw-v1.5.0-mpi-n1/results.txt']"
      ]
     },
     "execution_count": 6,
     "metadata": {},
     "output_type": "execute_result"
    }
   ],
   "source": [
    "results_files = glob.glob('/global/cscratch1/sd/sfarrell/pytorch-benchmarks/results/hsw-*-n1/results.txt')\n",
    "\n",
    "results_files"
   ]
  },
  {
   "cell_type": "code",
   "execution_count": 6,
   "metadata": {},
   "outputs": [
    {
     "data": {
      "text/html": [
       "<div>\n",
       "<style scoped>\n",
       "    .dataframe tbody tr th:only-of-type {\n",
       "        vertical-align: middle;\n",
       "    }\n",
       "\n",
       "    .dataframe tbody tr th {\n",
       "        vertical-align: top;\n",
       "    }\n",
       "\n",
       "    .dataframe thead th {\n",
       "        text-align: right;\n",
       "    }\n",
       "</style>\n",
       "<table border=\"1\" class=\"dataframe\">\n",
       "  <thead>\n",
       "    <tr style=\"text-align: right;\">\n",
       "      <th></th>\n",
       "      <th>train_rate</th>\n",
       "      <th>inference_rate</th>\n",
       "      <th>ranks</th>\n",
       "      <th>hardware</th>\n",
       "      <th>version</th>\n",
       "      <th>backend</th>\n",
       "      <th>model</th>\n",
       "    </tr>\n",
       "  </thead>\n",
       "  <tbody>\n",
       "    <tr>\n",
       "      <td>0</td>\n",
       "      <td>627.266843</td>\n",
       "      <td>1936.923361</td>\n",
       "      <td>1</td>\n",
       "      <td>hsw</td>\n",
       "      <td>v1.4.0</td>\n",
       "      <td>mpi</td>\n",
       "      <td>lstm</td>\n",
       "    </tr>\n",
       "    <tr>\n",
       "      <td>1</td>\n",
       "      <td>203.579070</td>\n",
       "      <td>849.929892</td>\n",
       "      <td>1</td>\n",
       "      <td>hsw</td>\n",
       "      <td>v1.4.0</td>\n",
       "      <td>mpi</td>\n",
       "      <td>alexnet</td>\n",
       "    </tr>\n",
       "    <tr>\n",
       "      <td>2</td>\n",
       "      <td>14.873055</td>\n",
       "      <td>34.675494</td>\n",
       "      <td>1</td>\n",
       "      <td>hsw</td>\n",
       "      <td>v1.4.0</td>\n",
       "      <td>mpi</td>\n",
       "      <td>resnet50</td>\n",
       "    </tr>\n",
       "    <tr>\n",
       "      <td>3</td>\n",
       "      <td>115.603731</td>\n",
       "      <td>228.013513</td>\n",
       "      <td>1</td>\n",
       "      <td>hsw</td>\n",
       "      <td>v1.4.0</td>\n",
       "      <td>mpi</td>\n",
       "      <td>cnn3d</td>\n",
       "    </tr>\n",
       "    <tr>\n",
       "      <td>4</td>\n",
       "      <td>642.970956</td>\n",
       "      <td>2556.861520</td>\n",
       "      <td>1</td>\n",
       "      <td>hsw</td>\n",
       "      <td>v1.3.1</td>\n",
       "      <td>mpi</td>\n",
       "      <td>lstm</td>\n",
       "    </tr>\n",
       "    <tr>\n",
       "      <td>5</td>\n",
       "      <td>204.135253</td>\n",
       "      <td>606.233518</td>\n",
       "      <td>1</td>\n",
       "      <td>hsw</td>\n",
       "      <td>v1.3.1</td>\n",
       "      <td>mpi</td>\n",
       "      <td>alexnet</td>\n",
       "    </tr>\n",
       "    <tr>\n",
       "      <td>6</td>\n",
       "      <td>15.196844</td>\n",
       "      <td>29.728784</td>\n",
       "      <td>1</td>\n",
       "      <td>hsw</td>\n",
       "      <td>v1.3.1</td>\n",
       "      <td>mpi</td>\n",
       "      <td>resnet50</td>\n",
       "    </tr>\n",
       "    <tr>\n",
       "      <td>7</td>\n",
       "      <td>201.667720</td>\n",
       "      <td>407.555616</td>\n",
       "      <td>1</td>\n",
       "      <td>hsw</td>\n",
       "      <td>v1.3.1</td>\n",
       "      <td>mpi</td>\n",
       "      <td>cnn3d</td>\n",
       "    </tr>\n",
       "    <tr>\n",
       "      <td>8</td>\n",
       "      <td>776.840712</td>\n",
       "      <td>2576.349997</td>\n",
       "      <td>1</td>\n",
       "      <td>hsw</td>\n",
       "      <td>v1.1.0</td>\n",
       "      <td>mpi</td>\n",
       "      <td>lstm</td>\n",
       "    </tr>\n",
       "    <tr>\n",
       "      <td>9</td>\n",
       "      <td>170.298037</td>\n",
       "      <td>689.007436</td>\n",
       "      <td>1</td>\n",
       "      <td>hsw</td>\n",
       "      <td>v1.1.0</td>\n",
       "      <td>mpi</td>\n",
       "      <td>alexnet</td>\n",
       "    </tr>\n",
       "    <tr>\n",
       "      <td>10</td>\n",
       "      <td>13.970692</td>\n",
       "      <td>22.921428</td>\n",
       "      <td>1</td>\n",
       "      <td>hsw</td>\n",
       "      <td>v1.1.0</td>\n",
       "      <td>mpi</td>\n",
       "      <td>resnet50</td>\n",
       "    </tr>\n",
       "    <tr>\n",
       "      <td>11</td>\n",
       "      <td>206.463203</td>\n",
       "      <td>438.406375</td>\n",
       "      <td>1</td>\n",
       "      <td>hsw</td>\n",
       "      <td>v1.1.0</td>\n",
       "      <td>mpi</td>\n",
       "      <td>cnn3d</td>\n",
       "    </tr>\n",
       "    <tr>\n",
       "      <td>12</td>\n",
       "      <td>652.895608</td>\n",
       "      <td>2706.192794</td>\n",
       "      <td>1</td>\n",
       "      <td>hsw</td>\n",
       "      <td>v1.2.0</td>\n",
       "      <td>mpi</td>\n",
       "      <td>lstm</td>\n",
       "    </tr>\n",
       "    <tr>\n",
       "      <td>13</td>\n",
       "      <td>214.485323</td>\n",
       "      <td>610.464312</td>\n",
       "      <td>1</td>\n",
       "      <td>hsw</td>\n",
       "      <td>v1.2.0</td>\n",
       "      <td>mpi</td>\n",
       "      <td>alexnet</td>\n",
       "    </tr>\n",
       "    <tr>\n",
       "      <td>14</td>\n",
       "      <td>14.350628</td>\n",
       "      <td>43.360747</td>\n",
       "      <td>1</td>\n",
       "      <td>hsw</td>\n",
       "      <td>v1.2.0</td>\n",
       "      <td>mpi</td>\n",
       "      <td>resnet50</td>\n",
       "    </tr>\n",
       "    <tr>\n",
       "      <td>15</td>\n",
       "      <td>197.393156</td>\n",
       "      <td>410.678840</td>\n",
       "      <td>1</td>\n",
       "      <td>hsw</td>\n",
       "      <td>v1.2.0</td>\n",
       "      <td>mpi</td>\n",
       "      <td>cnn3d</td>\n",
       "    </tr>\n",
       "  </tbody>\n",
       "</table>\n",
       "</div>"
      ],
      "text/plain": [
       "    train_rate  inference_rate  ranks hardware version backend     model\n",
       "0   627.266843     1936.923361      1      hsw  v1.4.0     mpi      lstm\n",
       "1   203.579070      849.929892      1      hsw  v1.4.0     mpi   alexnet\n",
       "2    14.873055       34.675494      1      hsw  v1.4.0     mpi  resnet50\n",
       "3   115.603731      228.013513      1      hsw  v1.4.0     mpi     cnn3d\n",
       "4   642.970956     2556.861520      1      hsw  v1.3.1     mpi      lstm\n",
       "5   204.135253      606.233518      1      hsw  v1.3.1     mpi   alexnet\n",
       "6    15.196844       29.728784      1      hsw  v1.3.1     mpi  resnet50\n",
       "7   201.667720      407.555616      1      hsw  v1.3.1     mpi     cnn3d\n",
       "8   776.840712     2576.349997      1      hsw  v1.1.0     mpi      lstm\n",
       "9   170.298037      689.007436      1      hsw  v1.1.0     mpi   alexnet\n",
       "10   13.970692       22.921428      1      hsw  v1.1.0     mpi  resnet50\n",
       "11  206.463203      438.406375      1      hsw  v1.1.0     mpi     cnn3d\n",
       "12  652.895608     2706.192794      1      hsw  v1.2.0     mpi      lstm\n",
       "13  214.485323      610.464312      1      hsw  v1.2.0     mpi   alexnet\n",
       "14   14.350628       43.360747      1      hsw  v1.2.0     mpi  resnet50\n",
       "15  197.393156      410.678840      1      hsw  v1.2.0     mpi     cnn3d"
      ]
     },
     "execution_count": 6,
     "metadata": {},
     "output_type": "execute_result"
    }
   ],
   "source": [
    "results = [pd.read_csv(f, delim_whitespace=True) for f in results_files]\n",
    "results = pd.concat(results, ignore_index=True)\n",
    "\n",
    "results"
   ]
  },
  {
   "cell_type": "markdown",
   "metadata": {},
   "source": [
    "## Training throughput comparisons"
   ]
  },
  {
   "cell_type": "code",
   "execution_count": 7,
   "metadata": {},
   "outputs": [],
   "source": [
    "models = results.model.unique()"
   ]
  },
  {
   "cell_type": "code",
   "execution_count": 8,
   "metadata": {},
   "outputs": [
    {
     "data": {
      "image/png": "[encoded data removed]",
      "text/plain": [
       "<Figure size 1152x720 with 4 Axes>"
      ]
     },
     "metadata": {
      "needs_background": "light"
     },
     "output_type": "display_data"
    }
   ],
   "source": [
    "fig, axs = plt.subplots(nrows=2, ncols=2, figsize=(16, 10))\n",
    "axs = axs.flatten()\n",
    "\n",
    "for i, model in enumerate(models):\n",
    "    ax = axs[i]\n",
    "    model_results = results[results.model == model].sort_values('version')\n",
    "    ax.bar(model_results.version, model_results.train_rate)\n",
    "    ax.set_title(model)\n",
    "    ax.set_ylabel('samples / s')\n",
    "\n",
    "plt.tight_layout()"
   ]
  },
  {
   "cell_type": "markdown",
   "metadata": {},
   "source": [
    "## Inference throughput comparisons"
   ]
  },
  {
   "cell_type": "code",
   "execution_count": 9,
   "metadata": {},
   "outputs": [
    {
     "data": {
      "image/png": "[encoded data removed]",
      "text/plain": [
       "<Figure size 1152x720 with 4 Axes>"
      ]
     },
     "metadata": {
      "needs_background": "light"
     },
     "output_type": "display_data"
    }
   ],
   "source": [
    "fig, axs = plt.subplots(nrows=2, ncols=2, figsize=(16, 10))\n",
    "axs = axs.flatten()\n",
    "\n",
    "for i, model in enumerate(models):\n",
    "    ax = axs[i]\n",
    "    model_results = results[results.model == model].sort_values('version')\n",
    "    ax.bar(model_results.version, model_results.inference_rate)\n",
    "    ax.set_title(model)\n",
    "    ax.set_ylabel('samples / s')\n",
    "\n",
    "plt.tight_layout()"
   ]
  }
 ],
 "metadata": {
  "kernelspec": {
   "display_name": "Python 3",
   "language": "python",
   "name": "python3"
  },
  "language_info": {
   "codemirror_mode": {
    "name": "ipython",
    "version": 3
   },
   "file_extension": ".py",
   "mimetype": "text/x-python",
   "name": "python",
   "nbconvert_exporter": "python",
   "pygments_lexer": "ipython3",
   "version": "3.7.4"
  },
  "toc-autonumbering": false
 },
 "nbformat": 4,
 "nbformat_minor": 4
}
