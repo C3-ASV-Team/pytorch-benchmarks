{
 "cells": [
  {
   "cell_type": "markdown",
   "metadata": {},
   "source": [
    "# PyTorch hardware benchmark analysis\n",
    "\n",
    "Single node throughput comparisons between different hardware options at NERSC."
   ]
  },
  {
   "cell_type": "code",
   "execution_count": 1,
   "metadata": {},
   "outputs": [],
   "source": [
    "import os\n",
    "import re\n",
    "import glob\n",
    "\n",
    "import pandas as pd\n",
    "import matplotlib.pyplot as plt"
   ]
  },
  {
   "cell_type": "code",
   "execution_count": 2,
   "metadata": {},
   "outputs": [],
   "source": [
    "%matplotlib inline"
   ]
  },
  {
   "cell_type": "code",
   "execution_count": 3,
   "metadata": {},
   "outputs": [],
   "source": [
    "plt.rcParams.update({'font.size': 14})"
   ]
  },
  {
   "cell_type": "markdown",
   "metadata": {},
   "source": [
    "## Load the results"
   ]
  },
  {
   "cell_type": "code",
   "execution_count": 4,
   "metadata": {},
   "outputs": [],
   "source": [
    "version = 'v1.2.0'\n",
    "pattern = '/global/cscratch1/sd/sfarrell/pytorch-benchmarks/*-%s-n1/results.txt' % version"
   ]
  },
  {
   "cell_type": "code",
   "execution_count": 5,
   "metadata": {},
   "outputs": [
    {
     "data": {
      "text/plain": [
       "['/global/cscratch1/sd/sfarrell/pytorch-benchmarks/gpu-v1.2.0-n1/results.txt',\n",
       " '/global/cscratch1/sd/sfarrell/pytorch-benchmarks/hsw-v1.2.0-n1/results.txt']"
      ]
     },
     "execution_count": 5,
     "metadata": {},
     "output_type": "execute_result"
    }
   ],
   "source": [
    "results_files = glob.glob(pattern)\n",
    "\n",
    "results_files"
   ]
  },
  {
   "cell_type": "code",
   "execution_count": 6,
   "metadata": {},
   "outputs": [
    {
     "data": {
      "text/html": [
       "<div>\n",
       "<style scoped>\n",
       "    .dataframe tbody tr th:only-of-type {\n",
       "        vertical-align: middle;\n",
       "    }\n",
       "\n",
       "    .dataframe tbody tr th {\n",
       "        vertical-align: top;\n",
       "    }\n",
       "\n",
       "    .dataframe thead th {\n",
       "        text-align: right;\n",
       "    }\n",
       "</style>\n",
       "<table border=\"1\" class=\"dataframe\">\n",
       "  <thead>\n",
       "    <tr style=\"text-align: right;\">\n",
       "      <th></th>\n",
       "      <th>train_rate</th>\n",
       "      <th>inference_rate</th>\n",
       "      <th>ranks</th>\n",
       "      <th>hardware</th>\n",
       "      <th>version</th>\n",
       "      <th>model</th>\n",
       "    </tr>\n",
       "  </thead>\n",
       "  <tbody>\n",
       "    <tr>\n",
       "      <th>0</th>\n",
       "      <td>182.525779</td>\n",
       "      <td>635.350850</td>\n",
       "      <td>1</td>\n",
       "      <td>gpu</td>\n",
       "      <td>v1.2.0</td>\n",
       "      <td>inceptionV3</td>\n",
       "    </tr>\n",
       "    <tr>\n",
       "      <th>1</th>\n",
       "      <td>5061.086456</td>\n",
       "      <td>14818.019022</td>\n",
       "      <td>1</td>\n",
       "      <td>gpu</td>\n",
       "      <td>v1.2.0</td>\n",
       "      <td>lstm</td>\n",
       "    </tr>\n",
       "    <tr>\n",
       "      <th>2</th>\n",
       "      <td>460.914036</td>\n",
       "      <td>2613.454798</td>\n",
       "      <td>1</td>\n",
       "      <td>gpu</td>\n",
       "      <td>v1.2.0</td>\n",
       "      <td>alexnet</td>\n",
       "    </tr>\n",
       "    <tr>\n",
       "      <th>3</th>\n",
       "      <td>247.850647</td>\n",
       "      <td>894.464710</td>\n",
       "      <td>1</td>\n",
       "      <td>gpu</td>\n",
       "      <td>v1.2.0</td>\n",
       "      <td>resnet50</td>\n",
       "    </tr>\n",
       "    <tr>\n",
       "      <th>4</th>\n",
       "      <td>196.265852</td>\n",
       "      <td>1043.327016</td>\n",
       "      <td>1</td>\n",
       "      <td>gpu</td>\n",
       "      <td>v1.2.0</td>\n",
       "      <td>vgg11</td>\n",
       "    </tr>\n",
       "    <tr>\n",
       "      <th>5</th>\n",
       "      <td>837.224941</td>\n",
       "      <td>5208.378940</td>\n",
       "      <td>1</td>\n",
       "      <td>gpu</td>\n",
       "      <td>v1.2.0</td>\n",
       "      <td>cnn3d</td>\n",
       "    </tr>\n",
       "    <tr>\n",
       "      <th>6</th>\n",
       "      <td>13.557418</td>\n",
       "      <td>47.904272</td>\n",
       "      <td>1</td>\n",
       "      <td>hsw</td>\n",
       "      <td>v1.2.0</td>\n",
       "      <td>inceptionV3</td>\n",
       "    </tr>\n",
       "    <tr>\n",
       "      <th>7</th>\n",
       "      <td>362.557148</td>\n",
       "      <td>796.934826</td>\n",
       "      <td>1</td>\n",
       "      <td>hsw</td>\n",
       "      <td>v1.2.0</td>\n",
       "      <td>lstm</td>\n",
       "    </tr>\n",
       "    <tr>\n",
       "      <th>8</th>\n",
       "      <td>203.419221</td>\n",
       "      <td>714.774127</td>\n",
       "      <td>1</td>\n",
       "      <td>hsw</td>\n",
       "      <td>v1.2.0</td>\n",
       "      <td>alexnet</td>\n",
       "    </tr>\n",
       "    <tr>\n",
       "      <th>9</th>\n",
       "      <td>14.629206</td>\n",
       "      <td>50.253714</td>\n",
       "      <td>1</td>\n",
       "      <td>hsw</td>\n",
       "      <td>v1.2.0</td>\n",
       "      <td>resnet50</td>\n",
       "    </tr>\n",
       "    <tr>\n",
       "      <th>10</th>\n",
       "      <td>20.162038</td>\n",
       "      <td>62.550474</td>\n",
       "      <td>1</td>\n",
       "      <td>hsw</td>\n",
       "      <td>v1.2.0</td>\n",
       "      <td>vgg11</td>\n",
       "    </tr>\n",
       "    <tr>\n",
       "      <th>11</th>\n",
       "      <td>191.446156</td>\n",
       "      <td>406.663932</td>\n",
       "      <td>1</td>\n",
       "      <td>hsw</td>\n",
       "      <td>v1.2.0</td>\n",
       "      <td>cnn3d</td>\n",
       "    </tr>\n",
       "  </tbody>\n",
       "</table>\n",
       "</div>"
      ],
      "text/plain": [
       "     train_rate  inference_rate  ranks hardware version        model\n",
       "0    182.525779      635.350850      1      gpu  v1.2.0  inceptionV3\n",
       "1   5061.086456    14818.019022      1      gpu  v1.2.0         lstm\n",
       "2    460.914036     2613.454798      1      gpu  v1.2.0      alexnet\n",
       "3    247.850647      894.464710      1      gpu  v1.2.0     resnet50\n",
       "4    196.265852     1043.327016      1      gpu  v1.2.0        vgg11\n",
       "5    837.224941     5208.378940      1      gpu  v1.2.0        cnn3d\n",
       "6     13.557418       47.904272      1      hsw  v1.2.0  inceptionV3\n",
       "7    362.557148      796.934826      1      hsw  v1.2.0         lstm\n",
       "8    203.419221      714.774127      1      hsw  v1.2.0      alexnet\n",
       "9     14.629206       50.253714      1      hsw  v1.2.0     resnet50\n",
       "10    20.162038       62.550474      1      hsw  v1.2.0        vgg11\n",
       "11   191.446156      406.663932      1      hsw  v1.2.0        cnn3d"
      ]
     },
     "execution_count": 6,
     "metadata": {},
     "output_type": "execute_result"
    }
   ],
   "source": [
    "results = [pd.read_csv(f, delim_whitespace=True) for f in results_files]\n",
    "results = pd.concat(results, ignore_index=True)\n",
    "\n",
    "results"
   ]
  },
  {
   "cell_type": "markdown",
   "metadata": {},
   "source": [
    "## Tables"
   ]
  },
  {
   "cell_type": "code",
   "execution_count": 7,
   "metadata": {},
   "outputs": [
    {
     "data": {
      "text/html": [
       "<div>\n",
       "<style scoped>\n",
       "    .dataframe tbody tr th:only-of-type {\n",
       "        vertical-align: middle;\n",
       "    }\n",
       "\n",
       "    .dataframe tbody tr th {\n",
       "        vertical-align: top;\n",
       "    }\n",
       "\n",
       "    .dataframe thead th {\n",
       "        text-align: right;\n",
       "    }\n",
       "</style>\n",
       "<table border=\"1\" class=\"dataframe\">\n",
       "  <thead>\n",
       "    <tr style=\"text-align: right;\">\n",
       "      <th>hardware</th>\n",
       "      <th>gpu</th>\n",
       "      <th>hsw</th>\n",
       "    </tr>\n",
       "    <tr>\n",
       "      <th>model</th>\n",
       "      <th></th>\n",
       "      <th></th>\n",
       "    </tr>\n",
       "  </thead>\n",
       "  <tbody>\n",
       "    <tr>\n",
       "      <th>alexnet</th>\n",
       "      <td>460.914036</td>\n",
       "      <td>203.419221</td>\n",
       "    </tr>\n",
       "    <tr>\n",
       "      <th>cnn3d</th>\n",
       "      <td>837.224941</td>\n",
       "      <td>191.446156</td>\n",
       "    </tr>\n",
       "    <tr>\n",
       "      <th>inceptionV3</th>\n",
       "      <td>182.525779</td>\n",
       "      <td>13.557418</td>\n",
       "    </tr>\n",
       "    <tr>\n",
       "      <th>lstm</th>\n",
       "      <td>5061.086456</td>\n",
       "      <td>362.557148</td>\n",
       "    </tr>\n",
       "    <tr>\n",
       "      <th>resnet50</th>\n",
       "      <td>247.850647</td>\n",
       "      <td>14.629206</td>\n",
       "    </tr>\n",
       "    <tr>\n",
       "      <th>vgg11</th>\n",
       "      <td>196.265852</td>\n",
       "      <td>20.162038</td>\n",
       "    </tr>\n",
       "  </tbody>\n",
       "</table>\n",
       "</div>"
      ],
      "text/plain": [
       "hardware             gpu         hsw\n",
       "model                               \n",
       "alexnet       460.914036  203.419221\n",
       "cnn3d         837.224941  191.446156\n",
       "inceptionV3   182.525779   13.557418\n",
       "lstm         5061.086456  362.557148\n",
       "resnet50      247.850647   14.629206\n",
       "vgg11         196.265852   20.162038"
      ]
     },
     "execution_count": 7,
     "metadata": {},
     "output_type": "execute_result"
    }
   ],
   "source": [
    "# Training rate per hardware\n",
    "results.groupby('model').apply(lambda g: pd.Series(data=g.train_rate.values, index=g.hardware))"
   ]
  },
  {
   "cell_type": "code",
   "execution_count": 8,
   "metadata": {},
   "outputs": [
    {
     "data": {
      "text/html": [
       "<div>\n",
       "<style scoped>\n",
       "    .dataframe tbody tr th:only-of-type {\n",
       "        vertical-align: middle;\n",
       "    }\n",
       "\n",
       "    .dataframe tbody tr th {\n",
       "        vertical-align: top;\n",
       "    }\n",
       "\n",
       "    .dataframe thead th {\n",
       "        text-align: right;\n",
       "    }\n",
       "</style>\n",
       "<table border=\"1\" class=\"dataframe\">\n",
       "  <thead>\n",
       "    <tr style=\"text-align: right;\">\n",
       "      <th>hardware</th>\n",
       "      <th>gpu</th>\n",
       "      <th>hsw</th>\n",
       "    </tr>\n",
       "    <tr>\n",
       "      <th>model</th>\n",
       "      <th></th>\n",
       "      <th></th>\n",
       "    </tr>\n",
       "  </thead>\n",
       "  <tbody>\n",
       "    <tr>\n",
       "      <th>alexnet</th>\n",
       "      <td>2613.454798</td>\n",
       "      <td>714.774127</td>\n",
       "    </tr>\n",
       "    <tr>\n",
       "      <th>cnn3d</th>\n",
       "      <td>5208.378940</td>\n",
       "      <td>406.663932</td>\n",
       "    </tr>\n",
       "    <tr>\n",
       "      <th>inceptionV3</th>\n",
       "      <td>635.350850</td>\n",
       "      <td>47.904272</td>\n",
       "    </tr>\n",
       "    <tr>\n",
       "      <th>lstm</th>\n",
       "      <td>14818.019022</td>\n",
       "      <td>796.934826</td>\n",
       "    </tr>\n",
       "    <tr>\n",
       "      <th>resnet50</th>\n",
       "      <td>894.464710</td>\n",
       "      <td>50.253714</td>\n",
       "    </tr>\n",
       "    <tr>\n",
       "      <th>vgg11</th>\n",
       "      <td>1043.327016</td>\n",
       "      <td>62.550474</td>\n",
       "    </tr>\n",
       "  </tbody>\n",
       "</table>\n",
       "</div>"
      ],
      "text/plain": [
       "hardware              gpu         hsw\n",
       "model                                \n",
       "alexnet       2613.454798  714.774127\n",
       "cnn3d         5208.378940  406.663932\n",
       "inceptionV3    635.350850   47.904272\n",
       "lstm         14818.019022  796.934826\n",
       "resnet50       894.464710   50.253714\n",
       "vgg11         1043.327016   62.550474"
      ]
     },
     "execution_count": 8,
     "metadata": {},
     "output_type": "execute_result"
    }
   ],
   "source": [
    "# Evaluation rate per hardware\n",
    "results.groupby('model').apply(lambda g: pd.Series(data=g.inference_rate.values, index=g.hardware))"
   ]
  },
  {
   "cell_type": "markdown",
   "metadata": {},
   "source": [
    "## Training throughput comparisons"
   ]
  },
  {
   "cell_type": "code",
   "execution_count": 9,
   "metadata": {},
   "outputs": [],
   "source": [
    "models = ['alexnet', 'vgg11', 'inceptionV3', 'resnet50', 'cnn3d', 'lstm']\n",
    "results_by_model = results.groupby('model')"
   ]
  },
  {
   "cell_type": "code",
   "execution_count": 10,
   "metadata": {},
   "outputs": [
    {
     "data": {
      "image/png": "[encoded data removed]",
      "text/plain": [
       "<Figure size 1008x1152 with 6 Axes>"
      ]
     },
     "metadata": {
      "needs_background": "light"
     },
     "output_type": "display_data"
    }
   ],
   "source": [
    "fig, axs = plt.subplots(nrows=3, ncols=2, figsize=(14, 16))\n",
    "axs = axs.flatten()\n",
    "\n",
    "for i, model in enumerate(models):\n",
    "    ax = axs[i]\n",
    "    model_results = results_by_model.get_group(model)\n",
    "    ax.bar(model_results.hardware, model_results.train_rate)\n",
    "    ax.set_title(model)\n",
    "    ax.set_ylabel('samples / s')\n",
    "\n",
    "plt.tight_layout()"
   ]
  }
 ],
 "metadata": {
  "kernelspec": {
   "display_name": "Python 3",
   "language": "python",
   "name": "python3"
  },
  "language_info": {
   "codemirror_mode": {
    "name": "ipython",
    "version": 3
   },
   "file_extension": ".py",
   "mimetype": "text/x-python",
   "name": "python",
   "nbconvert_exporter": "python",
   "pygments_lexer": "ipython3",
   "version": "3.7.3"
  },
  "toc-autonumbering": false
 },
 "nbformat": 4,
 "nbformat_minor": 4
}
