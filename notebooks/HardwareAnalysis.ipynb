{
 "cells": [
  {
   "cell_type": "markdown",
   "metadata": {},
   "source": [
    "# PyTorch hardware benchmark analysis\n",
    "\n",
    "Single node throughput comparisons between different hardware options at NERSC."
   ]
  },
  {
   "cell_type": "code",
   "execution_count": 2,
   "metadata": {},
   "outputs": [],
   "source": [
    "import os\n",
    "import re\n",
    "import glob\n",
    "\n",
    "import pandas as pd\n",
    "import matplotlib.pyplot as plt"
   ]
  },
  {
   "cell_type": "code",
   "execution_count": 3,
   "metadata": {},
   "outputs": [],
   "source": [
    "%matplotlib inline"
   ]
  },
  {
   "cell_type": "code",
   "execution_count": 4,
   "metadata": {},
   "outputs": [],
   "source": [
    "plt.rcParams.update({'font.size': 14})"
   ]
  },
  {
   "cell_type": "markdown",
   "metadata": {},
   "source": [
    "## Load the results"
   ]
  },
  {
   "cell_type": "code",
   "execution_count": 5,
   "metadata": {},
   "outputs": [
    {
     "data": {
      "text/plain": [
       "['/global/cscratch1/sd/sfarrell/pytorch-benchmarks/hsw-v1.2.0-n1/results.txt']"
      ]
     },
     "execution_count": 5,
     "metadata": {},
     "output_type": "execute_result"
    }
   ],
   "source": [
    "results_files = glob.glob('/global/cscratch1/sd/sfarrell/pytorch-benchmarks/*-v1.2.0*-n1/results.txt')\n",
    "\n",
    "results_files"
   ]
  },
  {
   "cell_type": "code",
   "execution_count": 6,
   "metadata": {},
   "outputs": [
    {
     "data": {
      "text/html": [
       "<div>\n",
       "<style scoped>\n",
       "    .dataframe tbody tr th:only-of-type {\n",
       "        vertical-align: middle;\n",
       "    }\n",
       "\n",
       "    .dataframe tbody tr th {\n",
       "        vertical-align: top;\n",
       "    }\n",
       "\n",
       "    .dataframe thead th {\n",
       "        text-align: right;\n",
       "    }\n",
       "</style>\n",
       "<table border=\"1\" class=\"dataframe\">\n",
       "  <thead>\n",
       "    <tr style=\"text-align: right;\">\n",
       "      <th></th>\n",
       "      <th>train_rate</th>\n",
       "      <th>inference_rate</th>\n",
       "      <th>ranks</th>\n",
       "      <th>hardware</th>\n",
       "      <th>version</th>\n",
       "      <th>model</th>\n",
       "    </tr>\n",
       "  </thead>\n",
       "  <tbody>\n",
       "    <tr>\n",
       "      <th>0</th>\n",
       "      <td>13.557418</td>\n",
       "      <td>47.904272</td>\n",
       "      <td>1</td>\n",
       "      <td>hsw</td>\n",
       "      <td>v1.2.0</td>\n",
       "      <td>inceptionV3</td>\n",
       "    </tr>\n",
       "    <tr>\n",
       "      <th>1</th>\n",
       "      <td>367.209851</td>\n",
       "      <td>813.716555</td>\n",
       "      <td>1</td>\n",
       "      <td>hsw</td>\n",
       "      <td>v1.2.0</td>\n",
       "      <td>lstm</td>\n",
       "    </tr>\n",
       "    <tr>\n",
       "      <th>2</th>\n",
       "      <td>203.419221</td>\n",
       "      <td>714.774127</td>\n",
       "      <td>1</td>\n",
       "      <td>hsw</td>\n",
       "      <td>v1.2.0</td>\n",
       "      <td>alexnet</td>\n",
       "    </tr>\n",
       "    <tr>\n",
       "      <th>3</th>\n",
       "      <td>14.629206</td>\n",
       "      <td>50.253714</td>\n",
       "      <td>1</td>\n",
       "      <td>hsw</td>\n",
       "      <td>v1.2.0</td>\n",
       "      <td>resnet50</td>\n",
       "    </tr>\n",
       "    <tr>\n",
       "      <th>4</th>\n",
       "      <td>20.162038</td>\n",
       "      <td>62.550474</td>\n",
       "      <td>1</td>\n",
       "      <td>hsw</td>\n",
       "      <td>v1.2.0</td>\n",
       "      <td>vgg11</td>\n",
       "    </tr>\n",
       "    <tr>\n",
       "      <th>5</th>\n",
       "      <td>188.397610</td>\n",
       "      <td>392.136458</td>\n",
       "      <td>1</td>\n",
       "      <td>hsw</td>\n",
       "      <td>v1.2.0</td>\n",
       "      <td>cnn3d</td>\n",
       "    </tr>\n",
       "  </tbody>\n",
       "</table>\n",
       "</div>"
      ],
      "text/plain": [
       "   train_rate  inference_rate  ranks hardware version        model\n",
       "0   13.557418       47.904272      1      hsw  v1.2.0  inceptionV3\n",
       "1  367.209851      813.716555      1      hsw  v1.2.0         lstm\n",
       "2  203.419221      714.774127      1      hsw  v1.2.0      alexnet\n",
       "3   14.629206       50.253714      1      hsw  v1.2.0     resnet50\n",
       "4   20.162038       62.550474      1      hsw  v1.2.0        vgg11\n",
       "5  188.397610      392.136458      1      hsw  v1.2.0        cnn3d"
      ]
     },
     "execution_count": 6,
     "metadata": {},
     "output_type": "execute_result"
    }
   ],
   "source": [
    "results = [pd.read_csv(f, delim_whitespace=True) for f in results_files]\n",
    "results = pd.concat(results, ignore_index=True)\n",
    "\n",
    "results"
   ]
  },
  {
   "cell_type": "raw",
   "metadata": {},
   "source": [
    "def parse_log(log_file):\n",
    "    train_pattern = re.compile('.*Train samples (\\S+) time (\\S+) s rate (\\S+).*')\n",
    "    valid_pattern = re.compile('.*Valid samples (\\S+) time (\\S+) s rate (\\S+).*')\n",
    "    results = {}\n",
    "    with open(log_file) as f:\n",
    "        for l in f:\n",
    "            m = train_pattern.match(l)\n",
    "            if m:\n",
    "                results['train_samples'] = int(m.group(1))\n",
    "                results['train_time'] = float(m.group(2))\n",
    "                results['train_rate'] = float(m.group(3))\n",
    "            m = valid_pattern.match(l)\n",
    "            if m:\n",
    "                results['valid_samples'] = int(m.group(1))\n",
    "                results['valid_time'] = float(m.group(2))\n",
    "                results['valid_rate'] = float(m.group(3))\n",
    "    return results\n",
    "\n",
    "def load_results(base_dir, versions=None):\n",
    "    \"\"\"Load all results from a base_dir in paths base_dir/version/model\"\"\"\n",
    "    if versions is None:\n",
    "        versions = os.listdir(base_dir)\n",
    "    results = []\n",
    "    for version in versions:\n",
    "        models = os.listdir(os.path.join(base_dir, version))\n",
    "        for model in models:\n",
    "            log_file = os.path.join(base_dir, version, model, 'out.log')\n",
    "            result = parse_log(log_file)\n",
    "            result.update(version=version, model=model)\n",
    "            results.append(result)\n",
    "    return pd.DataFrame(results)"
   ]
  },
  {
   "cell_type": "raw",
   "metadata": {},
   "source": [
    "results = []"
   ]
  },
  {
   "cell_type": "raw",
   "metadata": {},
   "source": [
    "# Load Cori Haswell results\n",
    "base_dir = os.path.expandvars('$SCRATCH/pytorch-benchmarks/cori-hsw')\n",
    "versions = ['v1.0.0-intel']    \n",
    "results.append(load_results(base_dir, versions).assign(hardware='cori-hsw'))"
   ]
  },
  {
   "cell_type": "raw",
   "metadata": {},
   "source": [
    "# Cori KNL results\n",
    "base_dir = os.path.expandvars('$SCRATCH/pytorch-benchmarks/cori-knl')\n",
    "versions = ['v1.0.0-intel']\n",
    "results.append(load_results(base_dir, versions).assign(hardware='cori-knl'))"
   ]
  },
  {
   "cell_type": "raw",
   "metadata": {},
   "source": [
    "# Load Cori GPU results\n",
    "base_dir = '/project/projectdirs/nstaff/sfarrell/pytorch-benchmarks'\n",
    "versions = ['v1.0.0-gpu']#, 'v1.0.1-gpu']\n",
    "results.append(load_results(base_dir, versions).assign(hardware='cori-gpu'))"
   ]
  },
  {
   "cell_type": "raw",
   "metadata": {},
   "source": [
    "# Load Maeve GPU results\n",
    "base_dir = '/global/cscratch1/sd/sfarrell/pytorch-benchmarks/maeve'\n",
    "versions = ['v1.0.0-gpu']\n",
    "results.append(load_results(base_dir, versions).assign(hardware='maeve-gpu'))"
   ]
  },
  {
   "cell_type": "raw",
   "metadata": {},
   "source": [
    "results = pd.concat(results, ignore_index=True)"
   ]
  },
  {
   "cell_type": "markdown",
   "metadata": {},
   "source": [
    "## Tables"
   ]
  },
  {
   "cell_type": "code",
   "execution_count": 7,
   "metadata": {},
   "outputs": [
    {
     "data": {
      "text/html": [
       "<div>\n",
       "<style scoped>\n",
       "    .dataframe tbody tr th:only-of-type {\n",
       "        vertical-align: middle;\n",
       "    }\n",
       "\n",
       "    .dataframe tbody tr th {\n",
       "        vertical-align: top;\n",
       "    }\n",
       "\n",
       "    .dataframe thead th {\n",
       "        text-align: right;\n",
       "    }\n",
       "</style>\n",
       "<table border=\"1\" class=\"dataframe\">\n",
       "  <thead>\n",
       "    <tr style=\"text-align: right;\">\n",
       "      <th>hardware</th>\n",
       "      <th>hsw</th>\n",
       "    </tr>\n",
       "    <tr>\n",
       "      <th>model</th>\n",
       "      <th></th>\n",
       "    </tr>\n",
       "  </thead>\n",
       "  <tbody>\n",
       "    <tr>\n",
       "      <th>alexnet</th>\n",
       "      <td>203.419221</td>\n",
       "    </tr>\n",
       "    <tr>\n",
       "      <th>cnn3d</th>\n",
       "      <td>188.397610</td>\n",
       "    </tr>\n",
       "    <tr>\n",
       "      <th>inceptionV3</th>\n",
       "      <td>13.557418</td>\n",
       "    </tr>\n",
       "    <tr>\n",
       "      <th>lstm</th>\n",
       "      <td>367.209851</td>\n",
       "    </tr>\n",
       "    <tr>\n",
       "      <th>resnet50</th>\n",
       "      <td>14.629206</td>\n",
       "    </tr>\n",
       "    <tr>\n",
       "      <th>vgg11</th>\n",
       "      <td>20.162038</td>\n",
       "    </tr>\n",
       "  </tbody>\n",
       "</table>\n",
       "</div>"
      ],
      "text/plain": [
       "hardware            hsw\n",
       "model                  \n",
       "alexnet      203.419221\n",
       "cnn3d        188.397610\n",
       "inceptionV3   13.557418\n",
       "lstm         367.209851\n",
       "resnet50      14.629206\n",
       "vgg11         20.162038"
      ]
     },
     "execution_count": 7,
     "metadata": {},
     "output_type": "execute_result"
    }
   ],
   "source": [
    "# Training rate per hardware\n",
    "results.groupby('model').apply(lambda g: pd.Series(data=g.train_rate.values, index=g.hardware))"
   ]
  },
  {
   "cell_type": "code",
   "execution_count": 9,
   "metadata": {},
   "outputs": [
    {
     "data": {
      "text/html": [
       "<div>\n",
       "<style scoped>\n",
       "    .dataframe tbody tr th:only-of-type {\n",
       "        vertical-align: middle;\n",
       "    }\n",
       "\n",
       "    .dataframe tbody tr th {\n",
       "        vertical-align: top;\n",
       "    }\n",
       "\n",
       "    .dataframe thead th {\n",
       "        text-align: right;\n",
       "    }\n",
       "</style>\n",
       "<table border=\"1\" class=\"dataframe\">\n",
       "  <thead>\n",
       "    <tr style=\"text-align: right;\">\n",
       "      <th>hardware</th>\n",
       "      <th>hsw</th>\n",
       "    </tr>\n",
       "    <tr>\n",
       "      <th>model</th>\n",
       "      <th></th>\n",
       "    </tr>\n",
       "  </thead>\n",
       "  <tbody>\n",
       "    <tr>\n",
       "      <th>alexnet</th>\n",
       "      <td>714.774127</td>\n",
       "    </tr>\n",
       "    <tr>\n",
       "      <th>cnn3d</th>\n",
       "      <td>392.136458</td>\n",
       "    </tr>\n",
       "    <tr>\n",
       "      <th>inceptionV3</th>\n",
       "      <td>47.904272</td>\n",
       "    </tr>\n",
       "    <tr>\n",
       "      <th>lstm</th>\n",
       "      <td>813.716555</td>\n",
       "    </tr>\n",
       "    <tr>\n",
       "      <th>resnet50</th>\n",
       "      <td>50.253714</td>\n",
       "    </tr>\n",
       "    <tr>\n",
       "      <th>vgg11</th>\n",
       "      <td>62.550474</td>\n",
       "    </tr>\n",
       "  </tbody>\n",
       "</table>\n",
       "</div>"
      ],
      "text/plain": [
       "hardware            hsw\n",
       "model                  \n",
       "alexnet      714.774127\n",
       "cnn3d        392.136458\n",
       "inceptionV3   47.904272\n",
       "lstm         813.716555\n",
       "resnet50      50.253714\n",
       "vgg11         62.550474"
      ]
     },
     "execution_count": 9,
     "metadata": {},
     "output_type": "execute_result"
    }
   ],
   "source": [
    "# Evaluation rate per hardware\n",
    "results.groupby('model').apply(lambda g: pd.Series(data=g.inference_rate.values, index=g.hardware))"
   ]
  },
  {
   "cell_type": "markdown",
   "metadata": {},
   "source": [
    "## Training throughput comparisons"
   ]
  },
  {
   "cell_type": "code",
   "execution_count": 10,
   "metadata": {},
   "outputs": [],
   "source": [
    "models = ['alexnet', 'vgg11', 'inceptionV3', 'resnet50', 'cnn3d', 'lstm']\n",
    "results_by_model = results.groupby('model')"
   ]
  },
  {
   "cell_type": "code",
   "execution_count": 11,
   "metadata": {},
   "outputs": [
    {
     "data": {
      "image/png": "[encoded data removed]",
      "text/plain": [
       "<Figure size 1008x1152 with 6 Axes>"
      ]
     },
     "metadata": {
      "needs_background": "light"
     },
     "output_type": "display_data"
    }
   ],
   "source": [
    "fig, axs = plt.subplots(nrows=3, ncols=2, figsize=(14, 16))\n",
    "axs = axs.flatten()\n",
    "\n",
    "for i, model in enumerate(models):\n",
    "    ax = axs[i]\n",
    "    model_results = results_by_model.get_group(model)\n",
    "    ax.bar(model_results.hardware, model_results.train_rate)\n",
    "    ax.set_title(model)\n",
    "    ax.set_ylabel('samples / s')\n",
    "\n",
    "plt.tight_layout()"
   ]
  }
 ],
 "metadata": {
  "kernelspec": {
   "display_name": "Python 3",
   "language": "python",
   "name": "python3"
  },
  "language_info": {
   "codemirror_mode": {
    "name": "ipython",
    "version": 3
   },
   "file_extension": ".py",
   "mimetype": "text/x-python",
   "name": "python",
   "nbconvert_exporter": "python",
   "pygments_lexer": "ipython3",
   "version": "3.7.3"
  },
  "toc-autonumbering": false
 },
 "nbformat": 4,
 "nbformat_minor": 4
}
