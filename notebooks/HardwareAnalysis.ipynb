{
 "cells": [
  {
   "cell_type": "markdown",
   "metadata": {},
   "source": [
    "# PyTorch hardware benchmark analysis\n",
    "\n",
    "Single node throughput comparisons between different hardware options at NERSC."
   ]
  },
  {
   "cell_type": "code",
   "execution_count": 1,
   "metadata": {},
   "outputs": [],
   "source": [
    "import os\n",
    "import re\n",
    "import glob\n",
    "\n",
    "import pandas as pd\n",
    "import matplotlib.pyplot as plt"
   ]
  },
  {
   "cell_type": "code",
   "execution_count": 2,
   "metadata": {},
   "outputs": [],
   "source": [
    "%matplotlib inline"
   ]
  },
  {
   "cell_type": "code",
   "execution_count": 3,
   "metadata": {},
   "outputs": [],
   "source": [
    "plt.rcParams.update({'font.size': 14})"
   ]
  },
  {
   "cell_type": "markdown",
   "metadata": {},
   "source": [
    "## Load the results"
   ]
  },
  {
   "cell_type": "code",
   "execution_count": 30,
   "metadata": {},
   "outputs": [
    {
     "name": "stdout",
     "output_type": "stream",
     "text": [
      "\u001b[0m\u001b[01;34mgpu-v1.5.0-nccl-n1\u001b[0m/   \u001b[01;34mgpu-v1.5.0-nccl-n8\u001b[0m/   \u001b[01;34mhsw-v1.5.0-mpi-n4\u001b[0m/\n",
      "\u001b[01;34mgpu-v1.5.0-nccl-n16\u001b[0m/  \u001b[01;34mhsw-v1.5.0-mpi-n1\u001b[0m/    \u001b[01;34mhsw-v1.5.0-mpi-n64\u001b[0m/\n",
      "\u001b[01;34mgpu-v1.5.0-nccl-n2\u001b[0m/   \u001b[01;34mhsw-v1.5.0-mpi-n128\u001b[0m/  \u001b[01;34mhsw-v1.5.0-mpi-n8\u001b[0m/\n",
      "\u001b[01;34mgpu-v1.5.0-nccl-n32\u001b[0m/  \u001b[01;34mhsw-v1.5.0-mpi-n16\u001b[0m/   \u001b[01;34mknl-v1.5.0-mpi-n1\u001b[0m/\n",
      "\u001b[01;34mgpu-v1.5.0-nccl-n4\u001b[0m/   \u001b[01;34mhsw-v1.5.0-mpi-n2\u001b[0m/\n",
      "\u001b[01;34mgpu-v1.5.0-nccl-n64\u001b[0m/  \u001b[01;34mhsw-v1.5.0-mpi-n32\u001b[0m/\n"
     ]
    }
   ],
   "source": [
    "ls /global/cscratch1/sd/sfarrell/pytorch-benchmarks/results"
   ]
  },
  {
   "cell_type": "code",
   "execution_count": 31,
   "metadata": {},
   "outputs": [],
   "source": [
    "pattern = '/global/cscratch1/sd/sfarrell/pytorch-benchmarks/results/%s-%s-%s-n1/results.txt'"
   ]
  },
  {
   "cell_type": "code",
   "execution_count": 32,
   "metadata": {},
   "outputs": [],
   "source": [
    "version = 'v1.5.0'"
   ]
  },
  {
   "cell_type": "code",
   "execution_count": 33,
   "metadata": {},
   "outputs": [
    {
     "data": {
      "text/plain": [
       "['/global/cscratch1/sd/sfarrell/pytorch-benchmarks/results/hsw-v1.5.0-mpi-n1/results.txt',\n",
       " '/global/cscratch1/sd/sfarrell/pytorch-benchmarks/results/knl-v1.5.0-mpi-n1/results.txt',\n",
       " '/global/cscratch1/sd/sfarrell/pytorch-benchmarks/results/gpu-v1.5.0-nccl-n1/results.txt']"
      ]
     },
     "execution_count": 33,
     "metadata": {},
     "output_type": "execute_result"
    }
   ],
   "source": [
    "results_files = (\n",
    "    glob.glob(pattern % ('hsw', version, 'mpi')) +\n",
    "    glob.glob(pattern % ('knl', version, 'mpi')) + \n",
    "    glob.glob(pattern % ('gpu', version, 'nccl'))\n",
    ")\n",
    "results_files"
   ]
  },
  {
   "cell_type": "code",
   "execution_count": 34,
   "metadata": {},
   "outputs": [
    {
     "data": {
      "text/html": [
       "<div>\n",
       "<style scoped>\n",
       "    .dataframe tbody tr th:only-of-type {\n",
       "        vertical-align: middle;\n",
       "    }\n",
       "\n",
       "    .dataframe tbody tr th {\n",
       "        vertical-align: top;\n",
       "    }\n",
       "\n",
       "    .dataframe thead th {\n",
       "        text-align: right;\n",
       "    }\n",
       "</style>\n",
       "<table border=\"1\" class=\"dataframe\">\n",
       "  <thead>\n",
       "    <tr style=\"text-align: right;\">\n",
       "      <th></th>\n",
       "      <th>train_rate</th>\n",
       "      <th>inference_rate</th>\n",
       "      <th>ranks</th>\n",
       "      <th>hardware</th>\n",
       "      <th>version</th>\n",
       "      <th>backend</th>\n",
       "      <th>model</th>\n",
       "    </tr>\n",
       "  </thead>\n",
       "  <tbody>\n",
       "    <tr>\n",
       "      <td>0</td>\n",
       "      <td>821.299625</td>\n",
       "      <td>2109.066161</td>\n",
       "      <td>1</td>\n",
       "      <td>hsw</td>\n",
       "      <td>v1.5.0</td>\n",
       "      <td>mpi</td>\n",
       "      <td>lstm</td>\n",
       "    </tr>\n",
       "    <tr>\n",
       "      <td>1</td>\n",
       "      <td>210.255378</td>\n",
       "      <td>708.869501</td>\n",
       "      <td>1</td>\n",
       "      <td>hsw</td>\n",
       "      <td>v1.5.0</td>\n",
       "      <td>mpi</td>\n",
       "      <td>alexnet</td>\n",
       "    </tr>\n",
       "    <tr>\n",
       "      <td>2</td>\n",
       "      <td>14.945649</td>\n",
       "      <td>54.003745</td>\n",
       "      <td>1</td>\n",
       "      <td>hsw</td>\n",
       "      <td>v1.5.0</td>\n",
       "      <td>mpi</td>\n",
       "      <td>resnet50</td>\n",
       "    </tr>\n",
       "    <tr>\n",
       "      <td>3</td>\n",
       "      <td>126.788587</td>\n",
       "      <td>284.274042</td>\n",
       "      <td>1</td>\n",
       "      <td>hsw</td>\n",
       "      <td>v1.5.0</td>\n",
       "      <td>mpi</td>\n",
       "      <td>cnn3d</td>\n",
       "    </tr>\n",
       "    <tr>\n",
       "      <td>4</td>\n",
       "      <td>237.164287</td>\n",
       "      <td>622.428353</td>\n",
       "      <td>1</td>\n",
       "      <td>knl</td>\n",
       "      <td>v1.5.0</td>\n",
       "      <td>mpi</td>\n",
       "      <td>lstm</td>\n",
       "    </tr>\n",
       "    <tr>\n",
       "      <td>5</td>\n",
       "      <td>148.210937</td>\n",
       "      <td>430.703021</td>\n",
       "      <td>1</td>\n",
       "      <td>knl</td>\n",
       "      <td>v1.5.0</td>\n",
       "      <td>mpi</td>\n",
       "      <td>alexnet</td>\n",
       "    </tr>\n",
       "    <tr>\n",
       "      <td>6</td>\n",
       "      <td>7.044788</td>\n",
       "      <td>57.519516</td>\n",
       "      <td>1</td>\n",
       "      <td>knl</td>\n",
       "      <td>v1.5.0</td>\n",
       "      <td>mpi</td>\n",
       "      <td>resnet50</td>\n",
       "    </tr>\n",
       "    <tr>\n",
       "      <td>7</td>\n",
       "      <td>42.725156</td>\n",
       "      <td>89.883285</td>\n",
       "      <td>1</td>\n",
       "      <td>knl</td>\n",
       "      <td>v1.5.0</td>\n",
       "      <td>mpi</td>\n",
       "      <td>cnn3d</td>\n",
       "    </tr>\n",
       "    <tr>\n",
       "      <td>8</td>\n",
       "      <td>7556.161027</td>\n",
       "      <td>14334.720501</td>\n",
       "      <td>1</td>\n",
       "      <td>gpu</td>\n",
       "      <td>v1.5.0</td>\n",
       "      <td>nccl</td>\n",
       "      <td>lstm</td>\n",
       "    </tr>\n",
       "    <tr>\n",
       "      <td>9</td>\n",
       "      <td>945.676066</td>\n",
       "      <td>2925.380300</td>\n",
       "      <td>1</td>\n",
       "      <td>gpu</td>\n",
       "      <td>v1.5.0</td>\n",
       "      <td>nccl</td>\n",
       "      <td>alexnet</td>\n",
       "    </tr>\n",
       "    <tr>\n",
       "      <td>10</td>\n",
       "      <td>298.138160</td>\n",
       "      <td>933.466286</td>\n",
       "      <td>1</td>\n",
       "      <td>gpu</td>\n",
       "      <td>v1.5.0</td>\n",
       "      <td>nccl</td>\n",
       "      <td>resnet50</td>\n",
       "    </tr>\n",
       "    <tr>\n",
       "      <td>11</td>\n",
       "      <td>1786.002353</td>\n",
       "      <td>9659.013527</td>\n",
       "      <td>1</td>\n",
       "      <td>gpu</td>\n",
       "      <td>v1.5.0</td>\n",
       "      <td>nccl</td>\n",
       "      <td>cnn3d</td>\n",
       "    </tr>\n",
       "  </tbody>\n",
       "</table>\n",
       "</div>"
      ],
      "text/plain": [
       "     train_rate  inference_rate  ranks hardware version backend     model\n",
       "0    821.299625     2109.066161      1      hsw  v1.5.0     mpi      lstm\n",
       "1    210.255378      708.869501      1      hsw  v1.5.0     mpi   alexnet\n",
       "2     14.945649       54.003745      1      hsw  v1.5.0     mpi  resnet50\n",
       "3    126.788587      284.274042      1      hsw  v1.5.0     mpi     cnn3d\n",
       "4    237.164287      622.428353      1      knl  v1.5.0     mpi      lstm\n",
       "5    148.210937      430.703021      1      knl  v1.5.0     mpi   alexnet\n",
       "6      7.044788       57.519516      1      knl  v1.5.0     mpi  resnet50\n",
       "7     42.725156       89.883285      1      knl  v1.5.0     mpi     cnn3d\n",
       "8   7556.161027    14334.720501      1      gpu  v1.5.0    nccl      lstm\n",
       "9    945.676066     2925.380300      1      gpu  v1.5.0    nccl   alexnet\n",
       "10   298.138160      933.466286      1      gpu  v1.5.0    nccl  resnet50\n",
       "11  1786.002353     9659.013527      1      gpu  v1.5.0    nccl     cnn3d"
      ]
     },
     "execution_count": 34,
     "metadata": {},
     "output_type": "execute_result"
    }
   ],
   "source": [
    "results = [pd.read_csv(f, delim_whitespace=True) for f in results_files]\n",
    "results = pd.concat(results, ignore_index=True)\n",
    "\n",
    "results"
   ]
  },
  {
   "cell_type": "markdown",
   "metadata": {},
   "source": [
    "## Tables"
   ]
  },
  {
   "cell_type": "code",
   "execution_count": 35,
   "metadata": {},
   "outputs": [
    {
     "data": {
      "text/html": [
       "<div>\n",
       "<style scoped>\n",
       "    .dataframe tbody tr th:only-of-type {\n",
       "        vertical-align: middle;\n",
       "    }\n",
       "\n",
       "    .dataframe tbody tr th {\n",
       "        vertical-align: top;\n",
       "    }\n",
       "\n",
       "    .dataframe thead th {\n",
       "        text-align: right;\n",
       "    }\n",
       "</style>\n",
       "<table border=\"1\" class=\"dataframe\">\n",
       "  <thead>\n",
       "    <tr style=\"text-align: right;\">\n",
       "      <th>hardware</th>\n",
       "      <th>hsw</th>\n",
       "      <th>knl</th>\n",
       "      <th>gpu</th>\n",
       "    </tr>\n",
       "    <tr>\n",
       "      <th>model</th>\n",
       "      <th></th>\n",
       "      <th></th>\n",
       "      <th></th>\n",
       "    </tr>\n",
       "  </thead>\n",
       "  <tbody>\n",
       "    <tr>\n",
       "      <td>alexnet</td>\n",
       "      <td>210.255378</td>\n",
       "      <td>148.210937</td>\n",
       "      <td>945.676066</td>\n",
       "    </tr>\n",
       "    <tr>\n",
       "      <td>cnn3d</td>\n",
       "      <td>126.788587</td>\n",
       "      <td>42.725156</td>\n",
       "      <td>1786.002353</td>\n",
       "    </tr>\n",
       "    <tr>\n",
       "      <td>lstm</td>\n",
       "      <td>821.299625</td>\n",
       "      <td>237.164287</td>\n",
       "      <td>7556.161027</td>\n",
       "    </tr>\n",
       "    <tr>\n",
       "      <td>resnet50</td>\n",
       "      <td>14.945649</td>\n",
       "      <td>7.044788</td>\n",
       "      <td>298.138160</td>\n",
       "    </tr>\n",
       "  </tbody>\n",
       "</table>\n",
       "</div>"
      ],
      "text/plain": [
       "hardware         hsw         knl          gpu\n",
       "model                                        \n",
       "alexnet   210.255378  148.210937   945.676066\n",
       "cnn3d     126.788587   42.725156  1786.002353\n",
       "lstm      821.299625  237.164287  7556.161027\n",
       "resnet50   14.945649    7.044788   298.138160"
      ]
     },
     "execution_count": 35,
     "metadata": {},
     "output_type": "execute_result"
    }
   ],
   "source": [
    "# Training rate per hardware\n",
    "results.groupby('model').apply(lambda g: pd.Series(data=g.train_rate.values, index=g.hardware))"
   ]
  },
  {
   "cell_type": "code",
   "execution_count": 36,
   "metadata": {},
   "outputs": [
    {
     "data": {
      "text/html": [
       "<div>\n",
       "<style scoped>\n",
       "    .dataframe tbody tr th:only-of-type {\n",
       "        vertical-align: middle;\n",
       "    }\n",
       "\n",
       "    .dataframe tbody tr th {\n",
       "        vertical-align: top;\n",
       "    }\n",
       "\n",
       "    .dataframe thead th {\n",
       "        text-align: right;\n",
       "    }\n",
       "</style>\n",
       "<table border=\"1\" class=\"dataframe\">\n",
       "  <thead>\n",
       "    <tr style=\"text-align: right;\">\n",
       "      <th>hardware</th>\n",
       "      <th>hsw</th>\n",
       "      <th>knl</th>\n",
       "      <th>gpu</th>\n",
       "    </tr>\n",
       "    <tr>\n",
       "      <th>model</th>\n",
       "      <th></th>\n",
       "      <th></th>\n",
       "      <th></th>\n",
       "    </tr>\n",
       "  </thead>\n",
       "  <tbody>\n",
       "    <tr>\n",
       "      <td>alexnet</td>\n",
       "      <td>708.869501</td>\n",
       "      <td>430.703021</td>\n",
       "      <td>2925.380300</td>\n",
       "    </tr>\n",
       "    <tr>\n",
       "      <td>cnn3d</td>\n",
       "      <td>284.274042</td>\n",
       "      <td>89.883285</td>\n",
       "      <td>9659.013527</td>\n",
       "    </tr>\n",
       "    <tr>\n",
       "      <td>lstm</td>\n",
       "      <td>2109.066161</td>\n",
       "      <td>622.428353</td>\n",
       "      <td>14334.720501</td>\n",
       "    </tr>\n",
       "    <tr>\n",
       "      <td>resnet50</td>\n",
       "      <td>54.003745</td>\n",
       "      <td>57.519516</td>\n",
       "      <td>933.466286</td>\n",
       "    </tr>\n",
       "  </tbody>\n",
       "</table>\n",
       "</div>"
      ],
      "text/plain": [
       "hardware          hsw         knl           gpu\n",
       "model                                          \n",
       "alexnet    708.869501  430.703021   2925.380300\n",
       "cnn3d      284.274042   89.883285   9659.013527\n",
       "lstm      2109.066161  622.428353  14334.720501\n",
       "resnet50    54.003745   57.519516    933.466286"
      ]
     },
     "execution_count": 36,
     "metadata": {},
     "output_type": "execute_result"
    }
   ],
   "source": [
    "# Evaluation rate per hardware\n",
    "results.groupby('model').apply(lambda g: pd.Series(data=g.inference_rate.values, index=g.hardware))"
   ]
  },
  {
   "cell_type": "markdown",
   "metadata": {},
   "source": [
    "## Training throughput comparisons"
   ]
  },
  {
   "cell_type": "code",
   "execution_count": 37,
   "metadata": {},
   "outputs": [],
   "source": [
    "#models = ['alexnet', 'vgg11', 'inceptionV3', 'resnet50', 'cnn3d', 'lstm']\n",
    "models = ['alexnet', 'resnet50', 'cnn3d', 'lstm']\n",
    "results_by_model = results.groupby('model')"
   ]
  },
  {
   "cell_type": "code",
   "execution_count": 44,
   "metadata": {},
   "outputs": [
    {
     "data": {
      "image/png": "[encoded data removed]",
      "text/plain": [
       "<Figure size 1008x720 with 4 Axes>"
      ]
     },
     "metadata": {
      "needs_background": "light"
     },
     "output_type": "display_data"
    }
   ],
   "source": [
    "fig, axs = plt.subplots(nrows=2, ncols=2, figsize=(14, 10))\n",
    "axs = axs.flatten()\n",
    "\n",
    "for i, model in enumerate(models):\n",
    "    ax = axs[i]\n",
    "    model_results = results_by_model.get_group(model)\n",
    "    ax.bar(model_results.hardware, model_results.train_rate, log=False)\n",
    "    ax.set_title(model)\n",
    "    ax.set_ylabel('samples / s')\n",
    "\n",
    "plt.tight_layout()"
   ]
  }
 ],
 "metadata": {
  "kernelspec": {
   "display_name": "Python 3",
   "language": "python",
   "name": "python3"
  },
  "language_info": {
   "codemirror_mode": {
    "name": "ipython",
    "version": 3
   },
   "file_extension": ".py",
   "mimetype": "text/x-python",
   "name": "python",
   "nbconvert_exporter": "python",
   "pygments_lexer": "ipython3",
   "version": "3.7.4"
  },
  "toc-autonumbering": false
 },
 "nbformat": 4,
 "nbformat_minor": 4
}
