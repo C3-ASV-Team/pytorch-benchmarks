{
 "cells": [
  {
   "cell_type": "markdown",
   "metadata": {},
   "source": [
    "# PyTorch hardware benchmark analysis\n",
    "\n",
    "Single node throughput comparisons between different hardware options at NERSC."
   ]
  },
  {
   "cell_type": "code",
   "execution_count": 1,
   "metadata": {},
   "outputs": [],
   "source": [
    "import os\n",
    "import re\n",
    "import glob\n",
    "\n",
    "import pandas as pd\n",
    "import matplotlib.pyplot as plt"
   ]
  },
  {
   "cell_type": "code",
   "execution_count": 2,
   "metadata": {},
   "outputs": [],
   "source": [
    "%matplotlib inline"
   ]
  },
  {
   "cell_type": "code",
   "execution_count": 3,
   "metadata": {},
   "outputs": [],
   "source": [
    "plt.rcParams.update({'font.size': 14})"
   ]
  },
  {
   "cell_type": "markdown",
   "metadata": {},
   "source": [
    "## Load the results"
   ]
  },
  {
   "cell_type": "code",
   "execution_count": 11,
   "metadata": {},
   "outputs": [
    {
     "name": "stdout",
     "output_type": "stream",
     "text": [
      "\u001b[0m\u001b[01;34mgpu-ngc_20.03_v0-nccl-n1\u001b[0m/  \u001b[01;34mgpu-v1.5.0-gloo-n2\u001b[0m/   \u001b[01;34mgpu-v1.5.0-nccl-n2\u001b[0m/\n",
      "\u001b[01;34mgpu-v1.1.0-nccl-n1\u001b[0m/        \u001b[01;34mgpu-v1.5.0-gloo-n32\u001b[0m/  \u001b[01;34mgpu-v1.5.0-nccl-n32\u001b[0m/\n",
      "\u001b[01;34mgpu-v1.2.0-nccl-n1\u001b[0m/        \u001b[01;34mgpu-v1.5.0-gloo-n4\u001b[0m/   \u001b[01;34mgpu-v1.5.0-nccl-n4\u001b[0m/\n",
      "\u001b[01;34mgpu-v1.3.1-nccl-n1\u001b[0m/        \u001b[01;34mgpu-v1.5.0-gloo-n64\u001b[0m/  \u001b[01;34mgpu-v1.5.0-nccl-n64\u001b[0m/\n",
      "\u001b[01;34mgpu-v1.4.0-nccl-n1\u001b[0m/        \u001b[01;34mgpu-v1.5.0-gloo-n8\u001b[0m/   \u001b[01;34mgpu-v1.5.0-nccl-n8\u001b[0m/\n",
      "\u001b[01;34mgpu-v1.5.0-gloo-n1\u001b[0m/        \u001b[01;34mgpu-v1.5.0-nccl-n1\u001b[0m/   \u001b[01;34mhsw-v1.5.0-mpi-n1\u001b[0m/\n",
      "\u001b[01;34mgpu-v1.5.0-gloo-n16\u001b[0m/       \u001b[01;34mgpu-v1.5.0-nccl-n16\u001b[0m/  \u001b[01;34mknl-v1.5.0-mpi-n1\u001b[0m/\n"
     ]
    }
   ],
   "source": [
    "ls /global/cscratch1/sd/sfarrell/pytorch-benchmarks/results/"
   ]
  },
  {
   "cell_type": "code",
   "execution_count": 12,
   "metadata": {},
   "outputs": [],
   "source": [
    "pattern = '/global/cscratch1/sd/sfarrell/pytorch-benchmarks/results/%s-%s-%s-n1/results.txt'"
   ]
  },
  {
   "cell_type": "code",
   "execution_count": 13,
   "metadata": {},
   "outputs": [],
   "source": [
    "version = 'v1.5.0'"
   ]
  },
  {
   "cell_type": "code",
   "execution_count": 14,
   "metadata": {},
   "outputs": [
    {
     "data": {
      "text/plain": [
       "['/global/cscratch1/sd/sfarrell/pytorch-benchmarks/results/hsw-v1.5.0-mpi-n1/results.txt',\n",
       " '/global/cscratch1/sd/sfarrell/pytorch-benchmarks/results/knl-v1.5.0-mpi-n1/results.txt',\n",
       " '/global/cscratch1/sd/sfarrell/pytorch-benchmarks/results/gpu-v1.5.0-nccl-n1/results.txt']"
      ]
     },
     "execution_count": 14,
     "metadata": {},
     "output_type": "execute_result"
    }
   ],
   "source": [
    "results_files = (\n",
    "    glob.glob(pattern % ('hsw', version, 'mpi')) +\n",
    "    glob.glob(pattern % ('knl', version, 'mpi')) + \n",
    "    glob.glob(pattern % ('gpu', version, 'nccl'))\n",
    ")\n",
    "results_files"
   ]
  },
  {
   "cell_type": "code",
   "execution_count": 15,
   "metadata": {},
   "outputs": [
    {
     "data": {
      "text/html": [
       "<div>\n",
       "<style scoped>\n",
       "    .dataframe tbody tr th:only-of-type {\n",
       "        vertical-align: middle;\n",
       "    }\n",
       "\n",
       "    .dataframe tbody tr th {\n",
       "        vertical-align: top;\n",
       "    }\n",
       "\n",
       "    .dataframe thead th {\n",
       "        text-align: right;\n",
       "    }\n",
       "</style>\n",
       "<table border=\"1\" class=\"dataframe\">\n",
       "  <thead>\n",
       "    <tr style=\"text-align: right;\">\n",
       "      <th></th>\n",
       "      <th>train_rate</th>\n",
       "      <th>inference_rate</th>\n",
       "      <th>ranks</th>\n",
       "      <th>hardware</th>\n",
       "      <th>version</th>\n",
       "      <th>backend</th>\n",
       "      <th>model</th>\n",
       "    </tr>\n",
       "  </thead>\n",
       "  <tbody>\n",
       "    <tr>\n",
       "      <td>0</td>\n",
       "      <td>829.083929</td>\n",
       "      <td>2148.042172</td>\n",
       "      <td>1</td>\n",
       "      <td>hsw</td>\n",
       "      <td>v1.5.0</td>\n",
       "      <td>mpi</td>\n",
       "      <td>lstm</td>\n",
       "    </tr>\n",
       "    <tr>\n",
       "      <td>1</td>\n",
       "      <td>208.057813</td>\n",
       "      <td>717.366698</td>\n",
       "      <td>1</td>\n",
       "      <td>hsw</td>\n",
       "      <td>v1.5.0</td>\n",
       "      <td>mpi</td>\n",
       "      <td>alexnet</td>\n",
       "    </tr>\n",
       "    <tr>\n",
       "      <td>2</td>\n",
       "      <td>15.384836</td>\n",
       "      <td>56.229829</td>\n",
       "      <td>1</td>\n",
       "      <td>hsw</td>\n",
       "      <td>v1.5.0</td>\n",
       "      <td>mpi</td>\n",
       "      <td>resnet50</td>\n",
       "    </tr>\n",
       "    <tr>\n",
       "      <td>3</td>\n",
       "      <td>129.737128</td>\n",
       "      <td>282.426692</td>\n",
       "      <td>1</td>\n",
       "      <td>hsw</td>\n",
       "      <td>v1.5.0</td>\n",
       "      <td>mpi</td>\n",
       "      <td>cnn3d</td>\n",
       "    </tr>\n",
       "    <tr>\n",
       "      <td>4</td>\n",
       "      <td>242.310326</td>\n",
       "      <td>663.814937</td>\n",
       "      <td>1</td>\n",
       "      <td>knl</td>\n",
       "      <td>v1.5.0</td>\n",
       "      <td>mpi</td>\n",
       "      <td>lstm</td>\n",
       "    </tr>\n",
       "    <tr>\n",
       "      <td>5</td>\n",
       "      <td>180.397115</td>\n",
       "      <td>447.464069</td>\n",
       "      <td>1</td>\n",
       "      <td>knl</td>\n",
       "      <td>v1.5.0</td>\n",
       "      <td>mpi</td>\n",
       "      <td>alexnet</td>\n",
       "    </tr>\n",
       "    <tr>\n",
       "      <td>6</td>\n",
       "      <td>7.129029</td>\n",
       "      <td>44.966010</td>\n",
       "      <td>1</td>\n",
       "      <td>knl</td>\n",
       "      <td>v1.5.0</td>\n",
       "      <td>mpi</td>\n",
       "      <td>resnet50</td>\n",
       "    </tr>\n",
       "    <tr>\n",
       "      <td>7</td>\n",
       "      <td>43.457983</td>\n",
       "      <td>91.766203</td>\n",
       "      <td>1</td>\n",
       "      <td>knl</td>\n",
       "      <td>v1.5.0</td>\n",
       "      <td>mpi</td>\n",
       "      <td>cnn3d</td>\n",
       "    </tr>\n",
       "    <tr>\n",
       "      <td>8</td>\n",
       "      <td>8033.061209</td>\n",
       "      <td>16712.631644</td>\n",
       "      <td>1</td>\n",
       "      <td>gpu</td>\n",
       "      <td>v1.5.0</td>\n",
       "      <td>nccl</td>\n",
       "      <td>lstm</td>\n",
       "    </tr>\n",
       "    <tr>\n",
       "      <td>9</td>\n",
       "      <td>1734.232339</td>\n",
       "      <td>3030.756997</td>\n",
       "      <td>1</td>\n",
       "      <td>gpu</td>\n",
       "      <td>v1.5.0</td>\n",
       "      <td>nccl</td>\n",
       "      <td>alexnet</td>\n",
       "    </tr>\n",
       "    <tr>\n",
       "      <td>10</td>\n",
       "      <td>326.592133</td>\n",
       "      <td>972.024255</td>\n",
       "      <td>1</td>\n",
       "      <td>gpu</td>\n",
       "      <td>v1.5.0</td>\n",
       "      <td>nccl</td>\n",
       "      <td>resnet50</td>\n",
       "    </tr>\n",
       "    <tr>\n",
       "      <td>11</td>\n",
       "      <td>3420.986498</td>\n",
       "      <td>9771.048662</td>\n",
       "      <td>1</td>\n",
       "      <td>gpu</td>\n",
       "      <td>v1.5.0</td>\n",
       "      <td>nccl</td>\n",
       "      <td>cnn3d</td>\n",
       "    </tr>\n",
       "  </tbody>\n",
       "</table>\n",
       "</div>"
      ],
      "text/plain": [
       "     train_rate  inference_rate  ranks hardware version backend     model\n",
       "0    829.083929     2148.042172      1      hsw  v1.5.0     mpi      lstm\n",
       "1    208.057813      717.366698      1      hsw  v1.5.0     mpi   alexnet\n",
       "2     15.384836       56.229829      1      hsw  v1.5.0     mpi  resnet50\n",
       "3    129.737128      282.426692      1      hsw  v1.5.0     mpi     cnn3d\n",
       "4    242.310326      663.814937      1      knl  v1.5.0     mpi      lstm\n",
       "5    180.397115      447.464069      1      knl  v1.5.0     mpi   alexnet\n",
       "6      7.129029       44.966010      1      knl  v1.5.0     mpi  resnet50\n",
       "7     43.457983       91.766203      1      knl  v1.5.0     mpi     cnn3d\n",
       "8   8033.061209    16712.631644      1      gpu  v1.5.0    nccl      lstm\n",
       "9   1734.232339     3030.756997      1      gpu  v1.5.0    nccl   alexnet\n",
       "10   326.592133      972.024255      1      gpu  v1.5.0    nccl  resnet50\n",
       "11  3420.986498     9771.048662      1      gpu  v1.5.0    nccl     cnn3d"
      ]
     },
     "execution_count": 15,
     "metadata": {},
     "output_type": "execute_result"
    }
   ],
   "source": [
    "results = [pd.read_csv(f, delim_whitespace=True) for f in results_files]\n",
    "results = pd.concat(results, ignore_index=True)\n",
    "\n",
    "results"
   ]
  },
  {
   "cell_type": "markdown",
   "metadata": {},
   "source": [
    "## Tables"
   ]
  },
  {
   "cell_type": "code",
   "execution_count": 16,
   "metadata": {},
   "outputs": [
    {
     "data": {
      "text/html": [
       "<div>\n",
       "<style scoped>\n",
       "    .dataframe tbody tr th:only-of-type {\n",
       "        vertical-align: middle;\n",
       "    }\n",
       "\n",
       "    .dataframe tbody tr th {\n",
       "        vertical-align: top;\n",
       "    }\n",
       "\n",
       "    .dataframe thead th {\n",
       "        text-align: right;\n",
       "    }\n",
       "</style>\n",
       "<table border=\"1\" class=\"dataframe\">\n",
       "  <thead>\n",
       "    <tr style=\"text-align: right;\">\n",
       "      <th>hardware</th>\n",
       "      <th>hsw</th>\n",
       "      <th>knl</th>\n",
       "      <th>gpu</th>\n",
       "    </tr>\n",
       "    <tr>\n",
       "      <th>model</th>\n",
       "      <th></th>\n",
       "      <th></th>\n",
       "      <th></th>\n",
       "    </tr>\n",
       "  </thead>\n",
       "  <tbody>\n",
       "    <tr>\n",
       "      <td>alexnet</td>\n",
       "      <td>208.057813</td>\n",
       "      <td>180.397115</td>\n",
       "      <td>1734.232339</td>\n",
       "    </tr>\n",
       "    <tr>\n",
       "      <td>cnn3d</td>\n",
       "      <td>129.737128</td>\n",
       "      <td>43.457983</td>\n",
       "      <td>3420.986498</td>\n",
       "    </tr>\n",
       "    <tr>\n",
       "      <td>lstm</td>\n",
       "      <td>829.083929</td>\n",
       "      <td>242.310326</td>\n",
       "      <td>8033.061209</td>\n",
       "    </tr>\n",
       "    <tr>\n",
       "      <td>resnet50</td>\n",
       "      <td>15.384836</td>\n",
       "      <td>7.129029</td>\n",
       "      <td>326.592133</td>\n",
       "    </tr>\n",
       "  </tbody>\n",
       "</table>\n",
       "</div>"
      ],
      "text/plain": [
       "hardware         hsw         knl          gpu\n",
       "model                                        \n",
       "alexnet   208.057813  180.397115  1734.232339\n",
       "cnn3d     129.737128   43.457983  3420.986498\n",
       "lstm      829.083929  242.310326  8033.061209\n",
       "resnet50   15.384836    7.129029   326.592133"
      ]
     },
     "execution_count": 16,
     "metadata": {},
     "output_type": "execute_result"
    }
   ],
   "source": [
    "# Training rate per hardware\n",
    "results.groupby('model').apply(lambda g: pd.Series(data=g.train_rate.values, index=g.hardware))"
   ]
  },
  {
   "cell_type": "code",
   "execution_count": 17,
   "metadata": {},
   "outputs": [
    {
     "data": {
      "text/html": [
       "<div>\n",
       "<style scoped>\n",
       "    .dataframe tbody tr th:only-of-type {\n",
       "        vertical-align: middle;\n",
       "    }\n",
       "\n",
       "    .dataframe tbody tr th {\n",
       "        vertical-align: top;\n",
       "    }\n",
       "\n",
       "    .dataframe thead th {\n",
       "        text-align: right;\n",
       "    }\n",
       "</style>\n",
       "<table border=\"1\" class=\"dataframe\">\n",
       "  <thead>\n",
       "    <tr style=\"text-align: right;\">\n",
       "      <th>hardware</th>\n",
       "      <th>hsw</th>\n",
       "      <th>knl</th>\n",
       "      <th>gpu</th>\n",
       "    </tr>\n",
       "    <tr>\n",
       "      <th>model</th>\n",
       "      <th></th>\n",
       "      <th></th>\n",
       "      <th></th>\n",
       "    </tr>\n",
       "  </thead>\n",
       "  <tbody>\n",
       "    <tr>\n",
       "      <td>alexnet</td>\n",
       "      <td>717.366698</td>\n",
       "      <td>447.464069</td>\n",
       "      <td>3030.756997</td>\n",
       "    </tr>\n",
       "    <tr>\n",
       "      <td>cnn3d</td>\n",
       "      <td>282.426692</td>\n",
       "      <td>91.766203</td>\n",
       "      <td>9771.048662</td>\n",
       "    </tr>\n",
       "    <tr>\n",
       "      <td>lstm</td>\n",
       "      <td>2148.042172</td>\n",
       "      <td>663.814937</td>\n",
       "      <td>16712.631644</td>\n",
       "    </tr>\n",
       "    <tr>\n",
       "      <td>resnet50</td>\n",
       "      <td>56.229829</td>\n",
       "      <td>44.966010</td>\n",
       "      <td>972.024255</td>\n",
       "    </tr>\n",
       "  </tbody>\n",
       "</table>\n",
       "</div>"
      ],
      "text/plain": [
       "hardware          hsw         knl           gpu\n",
       "model                                          \n",
       "alexnet    717.366698  447.464069   3030.756997\n",
       "cnn3d      282.426692   91.766203   9771.048662\n",
       "lstm      2148.042172  663.814937  16712.631644\n",
       "resnet50    56.229829   44.966010    972.024255"
      ]
     },
     "execution_count": 17,
     "metadata": {},
     "output_type": "execute_result"
    }
   ],
   "source": [
    "# Evaluation rate per hardware\n",
    "results.groupby('model').apply(lambda g: pd.Series(data=g.inference_rate.values, index=g.hardware))"
   ]
  },
  {
   "cell_type": "markdown",
   "metadata": {},
   "source": [
    "## Training throughput comparisons"
   ]
  },
  {
   "cell_type": "code",
   "execution_count": 18,
   "metadata": {},
   "outputs": [],
   "source": [
    "#models = ['alexnet', 'vgg11', 'inceptionV3', 'resnet50', 'cnn3d', 'lstm']\n",
    "models = ['alexnet', 'resnet50', 'cnn3d', 'lstm']\n",
    "results_by_model = results.groupby('model')"
   ]
  },
  {
   "cell_type": "code",
   "execution_count": 19,
   "metadata": {},
   "outputs": [
    {
     "data": {
      "image/png": "[encoded data removed]",
      "text/plain": [
       "<Figure size 1008x720 with 4 Axes>"
      ]
     },
     "metadata": {
      "needs_background": "light"
     },
     "output_type": "display_data"
    }
   ],
   "source": [
    "fig, axs = plt.subplots(nrows=2, ncols=2, figsize=(14, 10))\n",
    "axs = axs.flatten()\n",
    "\n",
    "for i, model in enumerate(models):\n",
    "    ax = axs[i]\n",
    "    model_results = results_by_model.get_group(model)\n",
    "    ax.bar(model_results.hardware, model_results.train_rate, log=False)\n",
    "    ax.set_title(model)\n",
    "    ax.set_ylabel('samples / s')\n",
    "\n",
    "plt.tight_layout()"
   ]
  }
 ],
 "metadata": {
  "kernelspec": {
   "display_name": "Python 3",
   "language": "python",
   "name": "python3"
  },
  "language_info": {
   "codemirror_mode": {
    "name": "ipython",
    "version": 3
   },
   "file_extension": ".py",
   "mimetype": "text/x-python",
   "name": "python",
   "nbconvert_exporter": "python",
   "pygments_lexer": "ipython3",
   "version": "3.7.4"
  },
  "toc-autonumbering": false
 },
 "nbformat": 4,
 "nbformat_minor": 4
}
