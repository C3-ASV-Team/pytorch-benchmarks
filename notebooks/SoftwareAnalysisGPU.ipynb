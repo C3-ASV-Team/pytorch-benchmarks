{
 "cells": [
  {
   "cell_type": "markdown",
   "metadata": {},
   "source": [
    "# PyTorch software benchmark analysis\n",
    "\n",
    "Single node throughput comparisons between installation versions"
   ]
  },
  {
   "cell_type": "code",
   "execution_count": 1,
   "metadata": {},
   "outputs": [],
   "source": [
    "import os\n",
    "import re\n",
    "import glob\n",
    "\n",
    "import pandas as pd\n",
    "import matplotlib.pyplot as plt"
   ]
  },
  {
   "cell_type": "code",
   "execution_count": 2,
   "metadata": {},
   "outputs": [],
   "source": [
    "%matplotlib inline"
   ]
  },
  {
   "cell_type": "code",
   "execution_count": 3,
   "metadata": {},
   "outputs": [],
   "source": [
    "plt.rcParams.update({'font.size': 14})"
   ]
  },
  {
   "cell_type": "markdown",
   "metadata": {},
   "source": [
    "## Load the results"
   ]
  },
  {
   "cell_type": "code",
   "execution_count": 4,
   "metadata": {},
   "outputs": [
    {
     "name": "stdout",
     "output_type": "stream",
     "text": [
      "\u001b[0m\u001b[01;34mgpu-ngc_20.03_v0-nccl-n1\u001b[0m/  \u001b[01;34mgpu-v1.5.0-nccl-n4\u001b[0m/   \u001b[01;34mhsw-v1.5.0-mpi-n16\u001b[0m/\n",
      "\u001b[01;34mgpu-ngc_20.03_v0-nccl-n8\u001b[0m/  \u001b[01;34mgpu-v1.5.0-nccl-n64\u001b[0m/  \u001b[01;34mhsw-v1.5.0-mpi-n2\u001b[0m/\n",
      "\u001b[01;34mgpu-v1.1.0-nccl-n1\u001b[0m/        \u001b[01;34mgpu-v1.5.0-nccl-n8\u001b[0m/   \u001b[01;34mhsw-v1.5.0-mpi-n32\u001b[0m/\n",
      "\u001b[01;34mgpu-v1.2.0-nccl-n1\u001b[0m/        \u001b[01;34mhsw-v1.1.0-mpi-n1\u001b[0m/    \u001b[01;34mhsw-v1.5.0-mpi-n4\u001b[0m/\n",
      "\u001b[01;34mgpu-v1.4.0-nccl-n1\u001b[0m/        \u001b[01;34mhsw-v1.2.0-mpi-n1\u001b[0m/    \u001b[01;34mhsw-v1.5.0-mpi-n64\u001b[0m/\n",
      "\u001b[01;34mgpu-v1.5.0-gloo-n1\u001b[0m/        \u001b[01;34mhsw-v1.3.1-mpi-n1\u001b[0m/    \u001b[01;34mhsw-v1.5.0-mpi-n8\u001b[0m/\n",
      "\u001b[01;34mgpu-v1.5.0-gloo-n16\u001b[0m/       \u001b[01;34mhsw-v1.4.0-mpi-n1\u001b[0m/    \u001b[01;34mknl-v1.5.0-mpi-n1\u001b[0m/\n",
      "\u001b[01;34mgpu-v1.5.0-gloo-n2\u001b[0m/        \u001b[01;34mhsw-v1.5.0-gloo-n1\u001b[0m/   \u001b[01;34mknl-v1.5.0-mpi-n128\u001b[0m/\n",
      "\u001b[01;34mgpu-v1.5.0-gloo-n32\u001b[0m/       \u001b[01;34mhsw-v1.5.0-gloo-n16\u001b[0m/  \u001b[01;34mknl-v1.5.0-mpi-n16\u001b[0m/\n",
      "\u001b[01;34mgpu-v1.5.0-gloo-n4\u001b[0m/        \u001b[01;34mhsw-v1.5.0-gloo-n2\u001b[0m/   \u001b[01;34mknl-v1.5.0-mpi-n2\u001b[0m/\n",
      "\u001b[01;34mgpu-v1.5.0-gloo-n64\u001b[0m/       \u001b[01;34mhsw-v1.5.0-gloo-n32\u001b[0m/  \u001b[01;34mknl-v1.5.0-mpi-n256\u001b[0m/\n",
      "\u001b[01;34mgpu-v1.5.0-gloo-n8\u001b[0m/        \u001b[01;34mhsw-v1.5.0-gloo-n4\u001b[0m/   \u001b[01;34mknl-v1.5.0-mpi-n32\u001b[0m/\n",
      "\u001b[01;34mgpu-v1.5.0-nccl-n1\u001b[0m/        \u001b[01;34mhsw-v1.5.0-gloo-n64\u001b[0m/  \u001b[01;34mknl-v1.5.0-mpi-n4\u001b[0m/\n",
      "\u001b[01;34mgpu-v1.5.0-nccl-n16\u001b[0m/       \u001b[01;34mhsw-v1.5.0-gloo-n8\u001b[0m/   \u001b[01;34mknl-v1.5.0-mpi-n64\u001b[0m/\n",
      "\u001b[01;34mgpu-v1.5.0-nccl-n2\u001b[0m/        \u001b[01;34mhsw-v1.5.0-mpi-n1\u001b[0m/    \u001b[01;34mknl-v1.5.0-mpi-n8\u001b[0m/\n",
      "\u001b[01;34mgpu-v1.5.0-nccl-n32\u001b[0m/       \u001b[01;34mhsw-v1.5.0-mpi-n128\u001b[0m/\n"
     ]
    }
   ],
   "source": [
    "ls /global/cscratch1/sd/sfarrell/pytorch-benchmarks/results"
   ]
  },
  {
   "cell_type": "code",
   "execution_count": 5,
   "metadata": {},
   "outputs": [
    {
     "data": {
      "text/plain": [
       "['/global/cscratch1/sd/sfarrell/pytorch-benchmarks/results/gpu-v1.1.0-nccl-n1/results.txt',\n",
       " '/global/cscratch1/sd/sfarrell/pytorch-benchmarks/results/gpu-v1.2.0-nccl-n1/results.txt',\n",
       " '/global/cscratch1/sd/sfarrell/pytorch-benchmarks/results/gpu-v1.4.0-nccl-n1/results.txt',\n",
       " '/global/cscratch1/sd/sfarrell/pytorch-benchmarks/results/gpu-v1.5.0-nccl-n1/results.txt',\n",
       " '/global/cscratch1/sd/sfarrell/pytorch-benchmarks/results/gpu-ngc_20.03_v0-nccl-n1/results.txt']"
      ]
     },
     "execution_count": 5,
     "metadata": {},
     "output_type": "execute_result"
    }
   ],
   "source": [
    "versions = [\n",
    "    'v1.1.0',\n",
    "    'v1.2.0',\n",
    "    'v1.4.0',\n",
    "    'v1.5.0',\n",
    "    'ngc_20.03_v0',\n",
    "]\n",
    "\n",
    "results_files = [f'/global/cscratch1/sd/sfarrell/pytorch-benchmarks/results/gpu-{version}-nccl-n1/results.txt'\n",
    "                 for version in versions]\n",
    "#results_files = glob.glob('/global/cscratch1/sd/sfarrell/pytorch-benchmarks/results/gpu-*-n1/results.txt')\n",
    "results_files"
   ]
  },
  {
   "cell_type": "code",
   "execution_count": 6,
   "metadata": {},
   "outputs": [
    {
     "data": {
      "text/html": [
       "<div>\n",
       "<style scoped>\n",
       "    .dataframe tbody tr th:only-of-type {\n",
       "        vertical-align: middle;\n",
       "    }\n",
       "\n",
       "    .dataframe tbody tr th {\n",
       "        vertical-align: top;\n",
       "    }\n",
       "\n",
       "    .dataframe thead th {\n",
       "        text-align: right;\n",
       "    }\n",
       "</style>\n",
       "<table border=\"1\" class=\"dataframe\">\n",
       "  <thead>\n",
       "    <tr style=\"text-align: right;\">\n",
       "      <th></th>\n",
       "      <th>train_rate</th>\n",
       "      <th>inference_rate</th>\n",
       "      <th>ranks</th>\n",
       "      <th>hardware</th>\n",
       "      <th>version</th>\n",
       "      <th>backend</th>\n",
       "      <th>model</th>\n",
       "    </tr>\n",
       "  </thead>\n",
       "  <tbody>\n",
       "    <tr>\n",
       "      <td>0</td>\n",
       "      <td>8359.996399</td>\n",
       "      <td>15592.410885</td>\n",
       "      <td>1</td>\n",
       "      <td>gpu</td>\n",
       "      <td>v1.1.0</td>\n",
       "      <td>nccl</td>\n",
       "      <td>lstm</td>\n",
       "    </tr>\n",
       "    <tr>\n",
       "      <td>1</td>\n",
       "      <td>1137.588178</td>\n",
       "      <td>2950.895080</td>\n",
       "      <td>1</td>\n",
       "      <td>gpu</td>\n",
       "      <td>v1.1.0</td>\n",
       "      <td>nccl</td>\n",
       "      <td>alexnet</td>\n",
       "    </tr>\n",
       "    <tr>\n",
       "      <td>2</td>\n",
       "      <td>302.187293</td>\n",
       "      <td>916.396832</td>\n",
       "      <td>1</td>\n",
       "      <td>gpu</td>\n",
       "      <td>v1.1.0</td>\n",
       "      <td>nccl</td>\n",
       "      <td>resnet50</td>\n",
       "    </tr>\n",
       "    <tr>\n",
       "      <td>3</td>\n",
       "      <td>1427.732001</td>\n",
       "      <td>7052.042741</td>\n",
       "      <td>1</td>\n",
       "      <td>gpu</td>\n",
       "      <td>v1.1.0</td>\n",
       "      <td>nccl</td>\n",
       "      <td>cnn3d</td>\n",
       "    </tr>\n",
       "    <tr>\n",
       "      <td>4</td>\n",
       "      <td>7981.552129</td>\n",
       "      <td>14457.008271</td>\n",
       "      <td>1</td>\n",
       "      <td>gpu</td>\n",
       "      <td>v1.2.0</td>\n",
       "      <td>nccl</td>\n",
       "      <td>lstm</td>\n",
       "    </tr>\n",
       "    <tr>\n",
       "      <td>5</td>\n",
       "      <td>1182.084851</td>\n",
       "      <td>3053.644153</td>\n",
       "      <td>1</td>\n",
       "      <td>gpu</td>\n",
       "      <td>v1.2.0</td>\n",
       "      <td>nccl</td>\n",
       "      <td>alexnet</td>\n",
       "    </tr>\n",
       "    <tr>\n",
       "      <td>6</td>\n",
       "      <td>299.476865</td>\n",
       "      <td>905.161207</td>\n",
       "      <td>1</td>\n",
       "      <td>gpu</td>\n",
       "      <td>v1.2.0</td>\n",
       "      <td>nccl</td>\n",
       "      <td>resnet50</td>\n",
       "    </tr>\n",
       "    <tr>\n",
       "      <td>7</td>\n",
       "      <td>1402.945881</td>\n",
       "      <td>6950.910011</td>\n",
       "      <td>1</td>\n",
       "      <td>gpu</td>\n",
       "      <td>v1.2.0</td>\n",
       "      <td>nccl</td>\n",
       "      <td>cnn3d</td>\n",
       "    </tr>\n",
       "    <tr>\n",
       "      <td>8</td>\n",
       "      <td>8581.769975</td>\n",
       "      <td>17149.063536</td>\n",
       "      <td>1</td>\n",
       "      <td>gpu</td>\n",
       "      <td>v1.4.0</td>\n",
       "      <td>nccl</td>\n",
       "      <td>lstm</td>\n",
       "    </tr>\n",
       "    <tr>\n",
       "      <td>9</td>\n",
       "      <td>1187.532773</td>\n",
       "      <td>3017.750442</td>\n",
       "      <td>1</td>\n",
       "      <td>gpu</td>\n",
       "      <td>v1.4.0</td>\n",
       "      <td>nccl</td>\n",
       "      <td>alexnet</td>\n",
       "    </tr>\n",
       "    <tr>\n",
       "      <td>10</td>\n",
       "      <td>301.486582</td>\n",
       "      <td>938.868751</td>\n",
       "      <td>1</td>\n",
       "      <td>gpu</td>\n",
       "      <td>v1.4.0</td>\n",
       "      <td>nccl</td>\n",
       "      <td>resnet50</td>\n",
       "    </tr>\n",
       "    <tr>\n",
       "      <td>11</td>\n",
       "      <td>1410.348687</td>\n",
       "      <td>6946.887922</td>\n",
       "      <td>1</td>\n",
       "      <td>gpu</td>\n",
       "      <td>v1.4.0</td>\n",
       "      <td>nccl</td>\n",
       "      <td>cnn3d</td>\n",
       "    </tr>\n",
       "    <tr>\n",
       "      <td>12</td>\n",
       "      <td>7556.161027</td>\n",
       "      <td>14334.720501</td>\n",
       "      <td>1</td>\n",
       "      <td>gpu</td>\n",
       "      <td>v1.5.0</td>\n",
       "      <td>nccl</td>\n",
       "      <td>lstm</td>\n",
       "    </tr>\n",
       "    <tr>\n",
       "      <td>13</td>\n",
       "      <td>945.676066</td>\n",
       "      <td>2925.380300</td>\n",
       "      <td>1</td>\n",
       "      <td>gpu</td>\n",
       "      <td>v1.5.0</td>\n",
       "      <td>nccl</td>\n",
       "      <td>alexnet</td>\n",
       "    </tr>\n",
       "    <tr>\n",
       "      <td>14</td>\n",
       "      <td>298.138160</td>\n",
       "      <td>933.466286</td>\n",
       "      <td>1</td>\n",
       "      <td>gpu</td>\n",
       "      <td>v1.5.0</td>\n",
       "      <td>nccl</td>\n",
       "      <td>resnet50</td>\n",
       "    </tr>\n",
       "    <tr>\n",
       "      <td>15</td>\n",
       "      <td>1786.002353</td>\n",
       "      <td>9659.013527</td>\n",
       "      <td>1</td>\n",
       "      <td>gpu</td>\n",
       "      <td>v1.5.0</td>\n",
       "      <td>nccl</td>\n",
       "      <td>cnn3d</td>\n",
       "    </tr>\n",
       "    <tr>\n",
       "      <td>16</td>\n",
       "      <td>7628.656825</td>\n",
       "      <td>14742.797897</td>\n",
       "      <td>1</td>\n",
       "      <td>gpu</td>\n",
       "      <td>ngc_20.03_v0</td>\n",
       "      <td>nccl</td>\n",
       "      <td>lstm</td>\n",
       "    </tr>\n",
       "    <tr>\n",
       "      <td>17</td>\n",
       "      <td>476.649985</td>\n",
       "      <td>3559.395889</td>\n",
       "      <td>1</td>\n",
       "      <td>gpu</td>\n",
       "      <td>ngc_20.03_v0</td>\n",
       "      <td>nccl</td>\n",
       "      <td>alexnet</td>\n",
       "    </tr>\n",
       "    <tr>\n",
       "      <td>18</td>\n",
       "      <td>302.836302</td>\n",
       "      <td>943.686594</td>\n",
       "      <td>1</td>\n",
       "      <td>gpu</td>\n",
       "      <td>ngc_20.03_v0</td>\n",
       "      <td>nccl</td>\n",
       "      <td>resnet50</td>\n",
       "    </tr>\n",
       "    <tr>\n",
       "      <td>19</td>\n",
       "      <td>1675.667925</td>\n",
       "      <td>8548.015126</td>\n",
       "      <td>1</td>\n",
       "      <td>gpu</td>\n",
       "      <td>ngc_20.03_v0</td>\n",
       "      <td>nccl</td>\n",
       "      <td>cnn3d</td>\n",
       "    </tr>\n",
       "  </tbody>\n",
       "</table>\n",
       "</div>"
      ],
      "text/plain": [
       "     train_rate  inference_rate  ranks hardware       version backend  \\\n",
       "0   8359.996399    15592.410885      1      gpu        v1.1.0    nccl   \n",
       "1   1137.588178     2950.895080      1      gpu        v1.1.0    nccl   \n",
       "2    302.187293      916.396832      1      gpu        v1.1.0    nccl   \n",
       "3   1427.732001     7052.042741      1      gpu        v1.1.0    nccl   \n",
       "4   7981.552129    14457.008271      1      gpu        v1.2.0    nccl   \n",
       "5   1182.084851     3053.644153      1      gpu        v1.2.0    nccl   \n",
       "6    299.476865      905.161207      1      gpu        v1.2.0    nccl   \n",
       "7   1402.945881     6950.910011      1      gpu        v1.2.0    nccl   \n",
       "8   8581.769975    17149.063536      1      gpu        v1.4.0    nccl   \n",
       "9   1187.532773     3017.750442      1      gpu        v1.4.0    nccl   \n",
       "10   301.486582      938.868751      1      gpu        v1.4.0    nccl   \n",
       "11  1410.348687     6946.887922      1      gpu        v1.4.0    nccl   \n",
       "12  7556.161027    14334.720501      1      gpu        v1.5.0    nccl   \n",
       "13   945.676066     2925.380300      1      gpu        v1.5.0    nccl   \n",
       "14   298.138160      933.466286      1      gpu        v1.5.0    nccl   \n",
       "15  1786.002353     9659.013527      1      gpu        v1.5.0    nccl   \n",
       "16  7628.656825    14742.797897      1      gpu  ngc_20.03_v0    nccl   \n",
       "17   476.649985     3559.395889      1      gpu  ngc_20.03_v0    nccl   \n",
       "18   302.836302      943.686594      1      gpu  ngc_20.03_v0    nccl   \n",
       "19  1675.667925     8548.015126      1      gpu  ngc_20.03_v0    nccl   \n",
       "\n",
       "       model  \n",
       "0       lstm  \n",
       "1    alexnet  \n",
       "2   resnet50  \n",
       "3      cnn3d  \n",
       "4       lstm  \n",
       "5    alexnet  \n",
       "6   resnet50  \n",
       "7      cnn3d  \n",
       "8       lstm  \n",
       "9    alexnet  \n",
       "10  resnet50  \n",
       "11     cnn3d  \n",
       "12      lstm  \n",
       "13   alexnet  \n",
       "14  resnet50  \n",
       "15     cnn3d  \n",
       "16      lstm  \n",
       "17   alexnet  \n",
       "18  resnet50  \n",
       "19     cnn3d  "
      ]
     },
     "execution_count": 6,
     "metadata": {},
     "output_type": "execute_result"
    }
   ],
   "source": [
    "results = [pd.read_csv(f, delim_whitespace=True) for f in results_files]\n",
    "results = pd.concat(results, ignore_index=True, sort=False)\n",
    "\n",
    "results"
   ]
  },
  {
   "cell_type": "markdown",
   "metadata": {},
   "source": [
    "## Training throughput comparisons"
   ]
  },
  {
   "cell_type": "code",
   "execution_count": 7,
   "metadata": {},
   "outputs": [],
   "source": [
    "models = results.model.unique()"
   ]
  },
  {
   "cell_type": "code",
   "execution_count": 8,
   "metadata": {},
   "outputs": [
    {
     "data": {
      "image/png": "[encoded data removed]",
      "text/plain": [
       "<Figure size 1152x720 with 4 Axes>"
      ]
     },
     "metadata": {
      "needs_background": "light"
     },
     "output_type": "display_data"
    }
   ],
   "source": [
    "fig, axs = plt.subplots(nrows=2, ncols=2, figsize=(16, 10))\n",
    "axs = axs.flatten()\n",
    "\n",
    "for i, model in enumerate(models):\n",
    "    ax = axs[i]\n",
    "    model_results = results[results.model == model] #.sort_values('version')\n",
    "    ax.bar(model_results.version, model_results.train_rate)\n",
    "    ax.set_title(model)\n",
    "    ax.set_ylabel('samples / s')\n",
    "\n",
    "plt.tight_layout()"
   ]
  },
  {
   "cell_type": "markdown",
   "metadata": {},
   "source": [
    "## Inference throughput comparisons"
   ]
  },
  {
   "cell_type": "code",
   "execution_count": 9,
   "metadata": {},
   "outputs": [
    {
     "data": {
      "image/png": "[encoded data removed]",
      "text/plain": [
       "<Figure size 1152x720 with 4 Axes>"
      ]
     },
     "metadata": {
      "needs_background": "light"
     },
     "output_type": "display_data"
    }
   ],
   "source": [
    "fig, axs = plt.subplots(nrows=2, ncols=2, figsize=(16, 10))\n",
    "axs = axs.flatten()\n",
    "\n",
    "for i, model in enumerate(models):\n",
    "    ax = axs[i]\n",
    "    model_results = results[results.model == model] #.sort_values('version')\n",
    "    ax.bar(model_results.version, model_results.inference_rate)\n",
    "    ax.set_title(model)\n",
    "    ax.set_ylabel('samples / s')\n",
    "\n",
    "plt.tight_layout()"
   ]
  }
 ],
 "metadata": {
  "kernelspec": {
   "display_name": "Python 3",
   "language": "python",
   "name": "python3"
  },
  "language_info": {
   "codemirror_mode": {
    "name": "ipython",
    "version": 3
   },
   "file_extension": ".py",
   "mimetype": "text/x-python",
   "name": "python",
   "nbconvert_exporter": "python",
   "pygments_lexer": "ipython3",
   "version": "3.7.4"
  },
  "toc-autonumbering": false
 },
 "nbformat": 4,
 "nbformat_minor": 4
}
