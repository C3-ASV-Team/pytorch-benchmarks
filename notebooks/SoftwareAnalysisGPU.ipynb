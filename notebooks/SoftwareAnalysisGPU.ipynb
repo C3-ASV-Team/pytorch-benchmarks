{
 "cells": [
  {
   "cell_type": "markdown",
   "metadata": {},
   "source": [
    "# PyTorch software benchmark analysis\n",
    "\n",
    "Single node throughput comparisons between installation versions"
   ]
  },
  {
   "cell_type": "code",
   "execution_count": 1,
   "metadata": {},
   "outputs": [],
   "source": [
    "import os\n",
    "import re\n",
    "import glob\n",
    "\n",
    "import pandas as pd\n",
    "import matplotlib.pyplot as plt"
   ]
  },
  {
   "cell_type": "code",
   "execution_count": 2,
   "metadata": {},
   "outputs": [],
   "source": [
    "%matplotlib inline"
   ]
  },
  {
   "cell_type": "code",
   "execution_count": 3,
   "metadata": {},
   "outputs": [],
   "source": [
    "plt.rcParams.update({'font.size': 14})"
   ]
  },
  {
   "cell_type": "markdown",
   "metadata": {},
   "source": [
    "## Load the results"
   ]
  },
  {
   "cell_type": "code",
   "execution_count": 4,
   "metadata": {},
   "outputs": [
    {
     "name": "stdout",
     "output_type": "stream",
     "text": [
      "\u001b[0m\u001b[01;34mgpu-v1.2.0-nccl-n1\u001b[0m/   \u001b[01;34mgpu-v1.4.0.ngc-nccl-n1\u001b[0m/    \u001b[01;34mhsw-v1.2.0-mpi-n1\u001b[0m/\n",
      "\u001b[01;34mgpu-v1.3.1-nccl-n1\u001b[0m/   \u001b[01;34mgpu-v1.4.0.ngc-nccl-n16\u001b[0m/   \u001b[01;34mhsw-v1.3.1-mpi-n1\u001b[0m/\n",
      "\u001b[01;34mgpu-v1.4.0-nccl-n1\u001b[0m/   \u001b[01;34mgpu-v1.4.0.ngc-nccl-n2\u001b[0m/    \u001b[01;34mhsw-v1.4.0-mpi-n1\u001b[0m/\n",
      "\u001b[01;34mgpu-v1.4.0-nccl-n16\u001b[0m/  \u001b[01;34mgpu-v1.4.0.ngc-nccl-n4\u001b[0m/    \u001b[01;34mknl-v1.1.0-mpi-n1\u001b[0m/\n",
      "\u001b[01;34mgpu-v1.4.0-nccl-n2\u001b[0m/   \u001b[01;34mgpu-v1.4.0.ngc-nccl-n8\u001b[0m/    \u001b[01;34mknl-v1.2.0-mpi-n1\u001b[0m/\n",
      "\u001b[01;34mgpu-v1.4.0-nccl-n4\u001b[0m/   \u001b[01;34mgpu-v1.5.0rc.ngc-nccl-n1\u001b[0m/  \u001b[01;34mknl-v1.3.1-mpi-n1\u001b[0m/\n",
      "\u001b[01;34mgpu-v1.4.0-nccl-n8\u001b[0m/   \u001b[01;34mhsw-v1.1.0-mpi-n1\u001b[0m/         \u001b[01;34mknl-v1.4.0-mpi-n1\u001b[0m/\n"
     ]
    }
   ],
   "source": [
    "ls /global/cscratch1/sd/sfarrell/pytorch-benchmarks/results"
   ]
  },
  {
   "cell_type": "code",
   "execution_count": 5,
   "metadata": {},
   "outputs": [
    {
     "data": {
      "text/plain": [
       "['/global/cscratch1/sd/sfarrell/pytorch-benchmarks/results/gpu-v1.5.0rc.ngc-nccl-n1/results.txt',\n",
       " '/global/cscratch1/sd/sfarrell/pytorch-benchmarks/results/gpu-v1.4.0-nccl-n1/results.txt',\n",
       " '/global/cscratch1/sd/sfarrell/pytorch-benchmarks/results/gpu-v1.2.0-nccl-n1/results.txt',\n",
       " '/global/cscratch1/sd/sfarrell/pytorch-benchmarks/results/gpu-v1.4.0.ngc-nccl-n1/results.txt',\n",
       " '/global/cscratch1/sd/sfarrell/pytorch-benchmarks/results/gpu-v1.3.1-nccl-n1/results.txt']"
      ]
     },
     "execution_count": 5,
     "metadata": {},
     "output_type": "execute_result"
    }
   ],
   "source": [
    "results_files = glob.glob('/global/cscratch1/sd/sfarrell/pytorch-benchmarks/results/gpu-*-n1/results.txt')\n",
    "\n",
    "results_files"
   ]
  },
  {
   "cell_type": "code",
   "execution_count": 7,
   "metadata": {},
   "outputs": [
    {
     "data": {
      "text/html": [
       "<div>\n",
       "<style scoped>\n",
       "    .dataframe tbody tr th:only-of-type {\n",
       "        vertical-align: middle;\n",
       "    }\n",
       "\n",
       "    .dataframe tbody tr th {\n",
       "        vertical-align: top;\n",
       "    }\n",
       "\n",
       "    .dataframe thead th {\n",
       "        text-align: right;\n",
       "    }\n",
       "</style>\n",
       "<table border=\"1\" class=\"dataframe\">\n",
       "  <thead>\n",
       "    <tr style=\"text-align: right;\">\n",
       "      <th></th>\n",
       "      <th>backend</th>\n",
       "      <th>hardware</th>\n",
       "      <th>inference_rate</th>\n",
       "      <th>model</th>\n",
       "      <th>ranks</th>\n",
       "      <th>train_rate</th>\n",
       "      <th>version</th>\n",
       "    </tr>\n",
       "  </thead>\n",
       "  <tbody>\n",
       "    <tr>\n",
       "      <td>0</td>\n",
       "      <td>nccl</td>\n",
       "      <td>gpu</td>\n",
       "      <td>14347.383083</td>\n",
       "      <td>lstm</td>\n",
       "      <td>1</td>\n",
       "      <td>7590.546914</td>\n",
       "      <td>v1.5.0rc.ngc</td>\n",
       "    </tr>\n",
       "    <tr>\n",
       "      <td>1</td>\n",
       "      <td>nccl</td>\n",
       "      <td>gpu</td>\n",
       "      <td>3288.981366</td>\n",
       "      <td>alexnet</td>\n",
       "      <td>1</td>\n",
       "      <td>436.293406</td>\n",
       "      <td>v1.5.0rc.ngc</td>\n",
       "    </tr>\n",
       "    <tr>\n",
       "      <td>2</td>\n",
       "      <td>nccl</td>\n",
       "      <td>gpu</td>\n",
       "      <td>940.938216</td>\n",
       "      <td>resnet50</td>\n",
       "      <td>1</td>\n",
       "      <td>298.585267</td>\n",
       "      <td>v1.5.0rc.ngc</td>\n",
       "    </tr>\n",
       "    <tr>\n",
       "      <td>3</td>\n",
       "      <td>nccl</td>\n",
       "      <td>gpu</td>\n",
       "      <td>7204.894494</td>\n",
       "      <td>cnn3d</td>\n",
       "      <td>1</td>\n",
       "      <td>1605.243148</td>\n",
       "      <td>v1.5.0rc.ngc</td>\n",
       "    </tr>\n",
       "    <tr>\n",
       "      <td>4</td>\n",
       "      <td>nccl</td>\n",
       "      <td>gpu</td>\n",
       "      <td>17251.248513</td>\n",
       "      <td>lstm</td>\n",
       "      <td>1</td>\n",
       "      <td>8776.446768</td>\n",
       "      <td>v1.4.0</td>\n",
       "    </tr>\n",
       "    <tr>\n",
       "      <td>5</td>\n",
       "      <td>nccl</td>\n",
       "      <td>gpu</td>\n",
       "      <td>2616.290535</td>\n",
       "      <td>alexnet</td>\n",
       "      <td>1</td>\n",
       "      <td>1066.771605</td>\n",
       "      <td>v1.4.0</td>\n",
       "    </tr>\n",
       "    <tr>\n",
       "      <td>6</td>\n",
       "      <td>nccl</td>\n",
       "      <td>gpu</td>\n",
       "      <td>900.584429</td>\n",
       "      <td>resnet50</td>\n",
       "      <td>1</td>\n",
       "      <td>295.817233</td>\n",
       "      <td>v1.4.0</td>\n",
       "    </tr>\n",
       "    <tr>\n",
       "      <td>7</td>\n",
       "      <td>nccl</td>\n",
       "      <td>gpu</td>\n",
       "      <td>5810.381650</td>\n",
       "      <td>cnn3d</td>\n",
       "      <td>1</td>\n",
       "      <td>1309.448036</td>\n",
       "      <td>v1.4.0</td>\n",
       "    </tr>\n",
       "    <tr>\n",
       "      <td>8</td>\n",
       "      <td>nccl</td>\n",
       "      <td>gpu</td>\n",
       "      <td>13904.552561</td>\n",
       "      <td>lstm</td>\n",
       "      <td>1</td>\n",
       "      <td>7822.898889</td>\n",
       "      <td>v1.2.0</td>\n",
       "    </tr>\n",
       "    <tr>\n",
       "      <td>9</td>\n",
       "      <td>nccl</td>\n",
       "      <td>gpu</td>\n",
       "      <td>2668.831966</td>\n",
       "      <td>alexnet</td>\n",
       "      <td>1</td>\n",
       "      <td>981.855660</td>\n",
       "      <td>v1.2.0</td>\n",
       "    </tr>\n",
       "    <tr>\n",
       "      <td>10</td>\n",
       "      <td>nccl</td>\n",
       "      <td>gpu</td>\n",
       "      <td>891.286461</td>\n",
       "      <td>resnet50</td>\n",
       "      <td>1</td>\n",
       "      <td>299.071671</td>\n",
       "      <td>v1.2.0</td>\n",
       "    </tr>\n",
       "    <tr>\n",
       "      <td>11</td>\n",
       "      <td>nccl</td>\n",
       "      <td>gpu</td>\n",
       "      <td>6527.008337</td>\n",
       "      <td>cnn3d</td>\n",
       "      <td>1</td>\n",
       "      <td>1351.685862</td>\n",
       "      <td>v1.2.0</td>\n",
       "    </tr>\n",
       "    <tr>\n",
       "      <td>12</td>\n",
       "      <td>nccl</td>\n",
       "      <td>gpu</td>\n",
       "      <td>14836.614151</td>\n",
       "      <td>lstm</td>\n",
       "      <td>1</td>\n",
       "      <td>7747.908087</td>\n",
       "      <td>v1.4.0.ngc</td>\n",
       "    </tr>\n",
       "    <tr>\n",
       "      <td>13</td>\n",
       "      <td>nccl</td>\n",
       "      <td>gpu</td>\n",
       "      <td>2655.585441</td>\n",
       "      <td>alexnet</td>\n",
       "      <td>1</td>\n",
       "      <td>465.036845</td>\n",
       "      <td>v1.4.0.ngc</td>\n",
       "    </tr>\n",
       "    <tr>\n",
       "      <td>14</td>\n",
       "      <td>nccl</td>\n",
       "      <td>gpu</td>\n",
       "      <td>906.870605</td>\n",
       "      <td>resnet50</td>\n",
       "      <td>1</td>\n",
       "      <td>305.200499</td>\n",
       "      <td>v1.4.0.ngc</td>\n",
       "    </tr>\n",
       "    <tr>\n",
       "      <td>15</td>\n",
       "      <td>nccl</td>\n",
       "      <td>gpu</td>\n",
       "      <td>6524.336257</td>\n",
       "      <td>cnn3d</td>\n",
       "      <td>1</td>\n",
       "      <td>1393.221091</td>\n",
       "      <td>v1.4.0.ngc</td>\n",
       "    </tr>\n",
       "    <tr>\n",
       "      <td>16</td>\n",
       "      <td>nccl</td>\n",
       "      <td>gpu</td>\n",
       "      <td>14244.590840</td>\n",
       "      <td>lstm</td>\n",
       "      <td>1</td>\n",
       "      <td>7936.700022</td>\n",
       "      <td>v1.3.1</td>\n",
       "    </tr>\n",
       "    <tr>\n",
       "      <td>17</td>\n",
       "      <td>nccl</td>\n",
       "      <td>gpu</td>\n",
       "      <td>2700.352885</td>\n",
       "      <td>alexnet</td>\n",
       "      <td>1</td>\n",
       "      <td>1124.230157</td>\n",
       "      <td>v1.3.1</td>\n",
       "    </tr>\n",
       "    <tr>\n",
       "      <td>18</td>\n",
       "      <td>nccl</td>\n",
       "      <td>gpu</td>\n",
       "      <td>902.139735</td>\n",
       "      <td>resnet50</td>\n",
       "      <td>1</td>\n",
       "      <td>298.522644</td>\n",
       "      <td>v1.3.1</td>\n",
       "    </tr>\n",
       "    <tr>\n",
       "      <td>19</td>\n",
       "      <td>nccl</td>\n",
       "      <td>gpu</td>\n",
       "      <td>6019.257280</td>\n",
       "      <td>cnn3d</td>\n",
       "      <td>1</td>\n",
       "      <td>1330.016153</td>\n",
       "      <td>v1.3.1</td>\n",
       "    </tr>\n",
       "  </tbody>\n",
       "</table>\n",
       "</div>"
      ],
      "text/plain": [
       "   backend hardware  inference_rate     model  ranks   train_rate  \\\n",
       "0     nccl      gpu    14347.383083      lstm      1  7590.546914   \n",
       "1     nccl      gpu     3288.981366   alexnet      1   436.293406   \n",
       "2     nccl      gpu      940.938216  resnet50      1   298.585267   \n",
       "3     nccl      gpu     7204.894494     cnn3d      1  1605.243148   \n",
       "4     nccl      gpu    17251.248513      lstm      1  8776.446768   \n",
       "5     nccl      gpu     2616.290535   alexnet      1  1066.771605   \n",
       "6     nccl      gpu      900.584429  resnet50      1   295.817233   \n",
       "7     nccl      gpu     5810.381650     cnn3d      1  1309.448036   \n",
       "8     nccl      gpu    13904.552561      lstm      1  7822.898889   \n",
       "9     nccl      gpu     2668.831966   alexnet      1   981.855660   \n",
       "10    nccl      gpu      891.286461  resnet50      1   299.071671   \n",
       "11    nccl      gpu     6527.008337     cnn3d      1  1351.685862   \n",
       "12    nccl      gpu    14836.614151      lstm      1  7747.908087   \n",
       "13    nccl      gpu     2655.585441   alexnet      1   465.036845   \n",
       "14    nccl      gpu      906.870605  resnet50      1   305.200499   \n",
       "15    nccl      gpu     6524.336257     cnn3d      1  1393.221091   \n",
       "16    nccl      gpu    14244.590840      lstm      1  7936.700022   \n",
       "17    nccl      gpu     2700.352885   alexnet      1  1124.230157   \n",
       "18    nccl      gpu      902.139735  resnet50      1   298.522644   \n",
       "19    nccl      gpu     6019.257280     cnn3d      1  1330.016153   \n",
       "\n",
       "         version  \n",
       "0   v1.5.0rc.ngc  \n",
       "1   v1.5.0rc.ngc  \n",
       "2   v1.5.0rc.ngc  \n",
       "3   v1.5.0rc.ngc  \n",
       "4         v1.4.0  \n",
       "5         v1.4.0  \n",
       "6         v1.4.0  \n",
       "7         v1.4.0  \n",
       "8         v1.2.0  \n",
       "9         v1.2.0  \n",
       "10        v1.2.0  \n",
       "11        v1.2.0  \n",
       "12    v1.4.0.ngc  \n",
       "13    v1.4.0.ngc  \n",
       "14    v1.4.0.ngc  \n",
       "15    v1.4.0.ngc  \n",
       "16        v1.3.1  \n",
       "17        v1.3.1  \n",
       "18        v1.3.1  \n",
       "19        v1.3.1  "
      ]
     },
     "execution_count": 7,
     "metadata": {},
     "output_type": "execute_result"
    }
   ],
   "source": [
    "results = [pd.read_csv(f, delim_whitespace=True) for f in results_files]\n",
    "results = pd.concat(results, ignore_index=True, sort=False)\n",
    "\n",
    "results"
   ]
  },
  {
   "cell_type": "markdown",
   "metadata": {},
   "source": [
    "## Training throughput comparisons"
   ]
  },
  {
   "cell_type": "code",
   "execution_count": 8,
   "metadata": {},
   "outputs": [],
   "source": [
    "models = results.model.unique()"
   ]
  },
  {
   "cell_type": "code",
   "execution_count": 9,
   "metadata": {},
   "outputs": [
    {
     "data": {
      "image/png": "[encoded data removed]",
      "text/plain": [
       "<Figure size 1152x720 with 4 Axes>"
      ]
     },
     "metadata": {
      "needs_background": "light"
     },
     "output_type": "display_data"
    }
   ],
   "source": [
    "fig, axs = plt.subplots(nrows=2, ncols=2, figsize=(16, 10))\n",
    "axs = axs.flatten()\n",
    "\n",
    "for i, model in enumerate(models):\n",
    "    ax = axs[i]\n",
    "    model_results = results[results.model == model].sort_values('version')\n",
    "    ax.bar(model_results.version, model_results.train_rate)\n",
    "    ax.set_title(model)\n",
    "    ax.set_ylabel('samples / s')\n",
    "\n",
    "plt.tight_layout()"
   ]
  },
  {
   "cell_type": "markdown",
   "metadata": {},
   "source": [
    "## Inference throughput comparisons"
   ]
  },
  {
   "cell_type": "code",
   "execution_count": 10,
   "metadata": {},
   "outputs": [
    {
     "data": {
      "image/png": "[encoded data removed]",
      "text/plain": [
       "<Figure size 1152x720 with 4 Axes>"
      ]
     },
     "metadata": {
      "needs_background": "light"
     },
     "output_type": "display_data"
    }
   ],
   "source": [
    "fig, axs = plt.subplots(nrows=2, ncols=2, figsize=(16, 10))\n",
    "axs = axs.flatten()\n",
    "\n",
    "for i, model in enumerate(models):\n",
    "    ax = axs[i]\n",
    "    model_results = results[results.model == model].sort_values('version')\n",
    "    ax.bar(model_results.version, model_results.inference_rate)\n",
    "    ax.set_title(model)\n",
    "    ax.set_ylabel('samples / s')\n",
    "\n",
    "plt.tight_layout()"
   ]
  }
 ],
 "metadata": {
  "kernelspec": {
   "display_name": "Python 3",
   "language": "python",
   "name": "python3"
  },
  "language_info": {
   "codemirror_mode": {
    "name": "ipython",
    "version": 3
   },
   "file_extension": ".py",
   "mimetype": "text/x-python",
   "name": "python",
   "nbconvert_exporter": "python",
   "pygments_lexer": "ipython3",
   "version": "3.7.4"
  },
  "toc-autonumbering": false
 },
 "nbformat": 4,
 "nbformat_minor": 4
}
